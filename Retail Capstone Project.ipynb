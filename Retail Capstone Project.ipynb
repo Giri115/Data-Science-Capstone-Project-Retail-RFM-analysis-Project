{
 "cells": [
  {
   "cell_type": "code",
   "execution_count": 1,
   "id": "3056862c",
   "metadata": {},
   "outputs": [],
   "source": [
    "# Importing all the required libraries and packages:\n",
    "\n",
    "import pandas as pd\n",
    "import numpy as np\n",
    "import matplotlib.pyplot as plt\n",
    "import seaborn as sns\n",
    "from sklearn.preprocessing import StandardScaler\n",
    "from sklearn.cluster import KMeans\n",
    "from sklearn.metrics import silhouette_score\n",
    "from datetime import timedelta\n",
    "from pandas import ExcelWriter"
   ]
  },
  {
   "cell_type": "code",
   "execution_count": 2,
   "id": "2e7c795d",
   "metadata": {},
   "outputs": [
    {
     "data": {
      "text/html": [
       "<div>\n",
       "<style scoped>\n",
       "    .dataframe tbody tr th:only-of-type {\n",
       "        vertical-align: middle;\n",
       "    }\n",
       "\n",
       "    .dataframe tbody tr th {\n",
       "        vertical-align: top;\n",
       "    }\n",
       "\n",
       "    .dataframe thead th {\n",
       "        text-align: right;\n",
       "    }\n",
       "</style>\n",
       "<table border=\"1\" class=\"dataframe\">\n",
       "  <thead>\n",
       "    <tr style=\"text-align: right;\">\n",
       "      <th></th>\n",
       "      <th>InvoiceNo</th>\n",
       "      <th>StockCode</th>\n",
       "      <th>Description</th>\n",
       "      <th>Quantity</th>\n",
       "      <th>InvoiceDate</th>\n",
       "      <th>UnitPrice</th>\n",
       "      <th>CustomerID</th>\n",
       "      <th>Country</th>\n",
       "    </tr>\n",
       "  </thead>\n",
       "  <tbody>\n",
       "    <tr>\n",
       "      <th>0</th>\n",
       "      <td>536365</td>\n",
       "      <td>85123A</td>\n",
       "      <td>WHITE HANGING HEART T-LIGHT HOLDER</td>\n",
       "      <td>6</td>\n",
       "      <td>2010-12-01 08:26:00</td>\n",
       "      <td>2.55</td>\n",
       "      <td>17850.0</td>\n",
       "      <td>United Kingdom</td>\n",
       "    </tr>\n",
       "    <tr>\n",
       "      <th>1</th>\n",
       "      <td>536365</td>\n",
       "      <td>71053</td>\n",
       "      <td>WHITE METAL LANTERN</td>\n",
       "      <td>6</td>\n",
       "      <td>2010-12-01 08:26:00</td>\n",
       "      <td>3.39</td>\n",
       "      <td>17850.0</td>\n",
       "      <td>United Kingdom</td>\n",
       "    </tr>\n",
       "    <tr>\n",
       "      <th>2</th>\n",
       "      <td>536365</td>\n",
       "      <td>84406B</td>\n",
       "      <td>CREAM CUPID HEARTS COAT HANGER</td>\n",
       "      <td>8</td>\n",
       "      <td>2010-12-01 08:26:00</td>\n",
       "      <td>2.75</td>\n",
       "      <td>17850.0</td>\n",
       "      <td>United Kingdom</td>\n",
       "    </tr>\n",
       "    <tr>\n",
       "      <th>3</th>\n",
       "      <td>536365</td>\n",
       "      <td>84029G</td>\n",
       "      <td>KNITTED UNION FLAG HOT WATER BOTTLE</td>\n",
       "      <td>6</td>\n",
       "      <td>2010-12-01 08:26:00</td>\n",
       "      <td>3.39</td>\n",
       "      <td>17850.0</td>\n",
       "      <td>United Kingdom</td>\n",
       "    </tr>\n",
       "    <tr>\n",
       "      <th>4</th>\n",
       "      <td>536365</td>\n",
       "      <td>84029E</td>\n",
       "      <td>RED WOOLLY HOTTIE WHITE HEART.</td>\n",
       "      <td>6</td>\n",
       "      <td>2010-12-01 08:26:00</td>\n",
       "      <td>3.39</td>\n",
       "      <td>17850.0</td>\n",
       "      <td>United Kingdom</td>\n",
       "    </tr>\n",
       "  </tbody>\n",
       "</table>\n",
       "</div>"
      ],
      "text/plain": [
       "  InvoiceNo StockCode                          Description  Quantity  \\\n",
       "0    536365    85123A   WHITE HANGING HEART T-LIGHT HOLDER         6   \n",
       "1    536365     71053                  WHITE METAL LANTERN         6   \n",
       "2    536365    84406B       CREAM CUPID HEARTS COAT HANGER         8   \n",
       "3    536365    84029G  KNITTED UNION FLAG HOT WATER BOTTLE         6   \n",
       "4    536365    84029E       RED WOOLLY HOTTIE WHITE HEART.         6   \n",
       "\n",
       "          InvoiceDate  UnitPrice  CustomerID         Country  \n",
       "0 2010-12-01 08:26:00       2.55     17850.0  United Kingdom  \n",
       "1 2010-12-01 08:26:00       3.39     17850.0  United Kingdom  \n",
       "2 2010-12-01 08:26:00       2.75     17850.0  United Kingdom  \n",
       "3 2010-12-01 08:26:00       3.39     17850.0  United Kingdom  \n",
       "4 2010-12-01 08:26:00       3.39     17850.0  United Kingdom  "
      ]
     },
     "execution_count": 2,
     "metadata": {},
     "output_type": "execute_result"
    }
   ],
   "source": [
    "Data = pd.read_excel(r'C:\\Users\\gkoppadx\\OneDrive - Intel Corporation\\Desktop\\simple\\A CAPSTONE PROJECT\\Project 3/Online Retail.xlsx')\n",
    "Data.head()"
   ]
  },
  {
   "cell_type": "code",
   "execution_count": 3,
   "id": "6eeb8859",
   "metadata": {},
   "outputs": [
    {
     "data": {
      "text/plain": [
       "(541909, 8)"
      ]
     },
     "execution_count": 3,
     "metadata": {},
     "output_type": "execute_result"
    }
   ],
   "source": [
    "# Checking shape of data\n",
    "\n",
    "Data.shape"
   ]
  },
  {
   "cell_type": "code",
   "execution_count": 4,
   "id": "1e3e75f9",
   "metadata": {},
   "outputs": [
    {
     "name": "stdout",
     "output_type": "stream",
     "text": [
      "<class 'pandas.core.frame.DataFrame'>\n",
      "RangeIndex: 541909 entries, 0 to 541908\n",
      "Data columns (total 8 columns):\n",
      " #   Column       Non-Null Count   Dtype         \n",
      "---  ------       --------------   -----         \n",
      " 0   InvoiceNo    541909 non-null  object        \n",
      " 1   StockCode    541909 non-null  object        \n",
      " 2   Description  540455 non-null  object        \n",
      " 3   Quantity     541909 non-null  int64         \n",
      " 4   InvoiceDate  541909 non-null  datetime64[ns]\n",
      " 5   UnitPrice    541909 non-null  float64       \n",
      " 6   CustomerID   406829 non-null  float64       \n",
      " 7   Country      541909 non-null  object        \n",
      "dtypes: datetime64[ns](1), float64(2), int64(1), object(4)\n",
      "memory usage: 33.1+ MB\n"
     ]
    }
   ],
   "source": [
    "# Check feature details of data\n",
    "\n",
    "Data.info()"
   ]
  },
  {
   "cell_type": "code",
   "execution_count": 5,
   "id": "9f918a43",
   "metadata": {},
   "outputs": [
    {
     "data": {
      "text/plain": [
       "InvoiceNo           0\n",
       "StockCode           0\n",
       "Description      1454\n",
       "Quantity            0\n",
       "InvoiceDate         0\n",
       "UnitPrice           0\n",
       "CustomerID     135080\n",
       "Country             0\n",
       "dtype: int64"
      ]
     },
     "execution_count": 5,
     "metadata": {},
     "output_type": "execute_result"
    }
   ],
   "source": [
    "# Checking the missing values in data\n",
    "\n",
    "Data.isnull().sum()"
   ]
  },
  {
   "cell_type": "code",
   "execution_count": 6,
   "id": "730b9c17",
   "metadata": {},
   "outputs": [
    {
     "data": {
      "text/plain": [
       "InvoiceNo       0.00\n",
       "StockCode       0.00\n",
       "Description     0.27\n",
       "Quantity        0.00\n",
       "InvoiceDate     0.00\n",
       "UnitPrice       0.00\n",
       "CustomerID     24.93\n",
       "Country         0.00\n",
       "dtype: float64"
      ]
     },
     "execution_count": 6,
     "metadata": {},
     "output_type": "execute_result"
    }
   ],
   "source": [
    "# Calculating the Missing Values % contribution in DF\n",
    "\n",
    "Data_null = round(Data.isnull().sum()/len(Data)*100,2)\n",
    "Data_null"
   ]
  },
  {
   "cell_type": "code",
   "execution_count": 7,
   "id": "f28a0e51",
   "metadata": {},
   "outputs": [
    {
     "data": {
      "text/html": [
       "<div>\n",
       "<style scoped>\n",
       "    .dataframe tbody tr th:only-of-type {\n",
       "        vertical-align: middle;\n",
       "    }\n",
       "\n",
       "    .dataframe tbody tr th {\n",
       "        vertical-align: top;\n",
       "    }\n",
       "\n",
       "    .dataframe thead th {\n",
       "        text-align: right;\n",
       "    }\n",
       "</style>\n",
       "<table border=\"1\" class=\"dataframe\">\n",
       "  <thead>\n",
       "    <tr style=\"text-align: right;\">\n",
       "      <th></th>\n",
       "      <th>InvoiceNo</th>\n",
       "      <th>StockCode</th>\n",
       "      <th>Description</th>\n",
       "      <th>Quantity</th>\n",
       "      <th>InvoiceDate</th>\n",
       "      <th>UnitPrice</th>\n",
       "      <th>CustomerID</th>\n",
       "      <th>Country</th>\n",
       "    </tr>\n",
       "  </thead>\n",
       "  <tbody>\n",
       "    <tr>\n",
       "      <th>622</th>\n",
       "      <td>536414</td>\n",
       "      <td>22139</td>\n",
       "      <td>NaN</td>\n",
       "      <td>56</td>\n",
       "      <td>2010-12-01 11:52:00</td>\n",
       "      <td>0.00</td>\n",
       "      <td>NaN</td>\n",
       "      <td>United Kingdom</td>\n",
       "    </tr>\n",
       "    <tr>\n",
       "      <th>1443</th>\n",
       "      <td>536544</td>\n",
       "      <td>21773</td>\n",
       "      <td>DECORATIVE ROSE BATHROOM BOTTLE</td>\n",
       "      <td>1</td>\n",
       "      <td>2010-12-01 14:32:00</td>\n",
       "      <td>2.51</td>\n",
       "      <td>NaN</td>\n",
       "      <td>United Kingdom</td>\n",
       "    </tr>\n",
       "    <tr>\n",
       "      <th>1444</th>\n",
       "      <td>536544</td>\n",
       "      <td>21774</td>\n",
       "      <td>DECORATIVE CATS BATHROOM BOTTLE</td>\n",
       "      <td>2</td>\n",
       "      <td>2010-12-01 14:32:00</td>\n",
       "      <td>2.51</td>\n",
       "      <td>NaN</td>\n",
       "      <td>United Kingdom</td>\n",
       "    </tr>\n",
       "    <tr>\n",
       "      <th>1445</th>\n",
       "      <td>536544</td>\n",
       "      <td>21786</td>\n",
       "      <td>POLKADOT RAIN HAT</td>\n",
       "      <td>4</td>\n",
       "      <td>2010-12-01 14:32:00</td>\n",
       "      <td>0.85</td>\n",
       "      <td>NaN</td>\n",
       "      <td>United Kingdom</td>\n",
       "    </tr>\n",
       "    <tr>\n",
       "      <th>1446</th>\n",
       "      <td>536544</td>\n",
       "      <td>21787</td>\n",
       "      <td>RAIN PONCHO RETROSPOT</td>\n",
       "      <td>2</td>\n",
       "      <td>2010-12-01 14:32:00</td>\n",
       "      <td>1.66</td>\n",
       "      <td>NaN</td>\n",
       "      <td>United Kingdom</td>\n",
       "    </tr>\n",
       "    <tr>\n",
       "      <th>...</th>\n",
       "      <td>...</td>\n",
       "      <td>...</td>\n",
       "      <td>...</td>\n",
       "      <td>...</td>\n",
       "      <td>...</td>\n",
       "      <td>...</td>\n",
       "      <td>...</td>\n",
       "      <td>...</td>\n",
       "    </tr>\n",
       "    <tr>\n",
       "      <th>541536</th>\n",
       "      <td>581498</td>\n",
       "      <td>85099B</td>\n",
       "      <td>JUMBO BAG RED RETROSPOT</td>\n",
       "      <td>5</td>\n",
       "      <td>2011-12-09 10:26:00</td>\n",
       "      <td>4.13</td>\n",
       "      <td>NaN</td>\n",
       "      <td>United Kingdom</td>\n",
       "    </tr>\n",
       "    <tr>\n",
       "      <th>541537</th>\n",
       "      <td>581498</td>\n",
       "      <td>85099C</td>\n",
       "      <td>JUMBO  BAG BAROQUE BLACK WHITE</td>\n",
       "      <td>4</td>\n",
       "      <td>2011-12-09 10:26:00</td>\n",
       "      <td>4.13</td>\n",
       "      <td>NaN</td>\n",
       "      <td>United Kingdom</td>\n",
       "    </tr>\n",
       "    <tr>\n",
       "      <th>541538</th>\n",
       "      <td>581498</td>\n",
       "      <td>85150</td>\n",
       "      <td>LADIES &amp; GENTLEMEN METAL SIGN</td>\n",
       "      <td>1</td>\n",
       "      <td>2011-12-09 10:26:00</td>\n",
       "      <td>4.96</td>\n",
       "      <td>NaN</td>\n",
       "      <td>United Kingdom</td>\n",
       "    </tr>\n",
       "    <tr>\n",
       "      <th>541539</th>\n",
       "      <td>581498</td>\n",
       "      <td>85174</td>\n",
       "      <td>S/4 CACTI CANDLES</td>\n",
       "      <td>1</td>\n",
       "      <td>2011-12-09 10:26:00</td>\n",
       "      <td>10.79</td>\n",
       "      <td>NaN</td>\n",
       "      <td>United Kingdom</td>\n",
       "    </tr>\n",
       "    <tr>\n",
       "      <th>541540</th>\n",
       "      <td>581498</td>\n",
       "      <td>DOT</td>\n",
       "      <td>DOTCOM POSTAGE</td>\n",
       "      <td>1</td>\n",
       "      <td>2011-12-09 10:26:00</td>\n",
       "      <td>1714.17</td>\n",
       "      <td>NaN</td>\n",
       "      <td>United Kingdom</td>\n",
       "    </tr>\n",
       "  </tbody>\n",
       "</table>\n",
       "<p>135080 rows × 8 columns</p>\n",
       "</div>"
      ],
      "text/plain": [
       "       InvoiceNo StockCode                      Description  Quantity  \\\n",
       "622       536414     22139                              NaN        56   \n",
       "1443      536544     21773  DECORATIVE ROSE BATHROOM BOTTLE         1   \n",
       "1444      536544     21774  DECORATIVE CATS BATHROOM BOTTLE         2   \n",
       "1445      536544     21786               POLKADOT RAIN HAT          4   \n",
       "1446      536544     21787            RAIN PONCHO RETROSPOT         2   \n",
       "...          ...       ...                              ...       ...   \n",
       "541536    581498    85099B          JUMBO BAG RED RETROSPOT         5   \n",
       "541537    581498    85099C   JUMBO  BAG BAROQUE BLACK WHITE         4   \n",
       "541538    581498     85150    LADIES & GENTLEMEN METAL SIGN         1   \n",
       "541539    581498     85174                S/4 CACTI CANDLES         1   \n",
       "541540    581498       DOT                   DOTCOM POSTAGE         1   \n",
       "\n",
       "               InvoiceDate  UnitPrice  CustomerID         Country  \n",
       "622    2010-12-01 11:52:00       0.00         NaN  United Kingdom  \n",
       "1443   2010-12-01 14:32:00       2.51         NaN  United Kingdom  \n",
       "1444   2010-12-01 14:32:00       2.51         NaN  United Kingdom  \n",
       "1445   2010-12-01 14:32:00       0.85         NaN  United Kingdom  \n",
       "1446   2010-12-01 14:32:00       1.66         NaN  United Kingdom  \n",
       "...                    ...        ...         ...             ...  \n",
       "541536 2011-12-09 10:26:00       4.13         NaN  United Kingdom  \n",
       "541537 2011-12-09 10:26:00       4.13         NaN  United Kingdom  \n",
       "541538 2011-12-09 10:26:00       4.96         NaN  United Kingdom  \n",
       "541539 2011-12-09 10:26:00      10.79         NaN  United Kingdom  \n",
       "541540 2011-12-09 10:26:00    1714.17         NaN  United Kingdom  \n",
       "\n",
       "[135080 rows x 8 columns]"
      ]
     },
     "execution_count": 7,
     "metadata": {},
     "output_type": "execute_result"
    }
   ],
   "source": [
    "# CustomerID is important feature of our analysis since our analysis is centered around Customers only,\n",
    "# so we can not impute null values CustomerID with mean/ median/ mode in this case.\n",
    "\n",
    "# We will check possibility to fill null values in CustomerID column,\n",
    "# By looking up for InvoiceNo of row having null CustomerID in other rows where CustomerID is present.\n",
    "\n",
    "# If there are still any null values in CustomerID after this process then we will drop complete row having missing CustomerID.\n",
    "# So we will drop all rows having null values in CustomerID.\n",
    "\n",
    "invoice_null_custid = set(Data[Data['CustomerID'].isnull()]['InvoiceNo'])\n",
    "Data[Data['InvoiceNo'].isin(invoice_null_custid) & (Data['CustomerID'].isnull())]"
   ]
  },
  {
   "cell_type": "code",
   "execution_count": 8,
   "id": "7377af7b",
   "metadata": {},
   "outputs": [
    {
     "data": {
      "text/html": [
       "<div>\n",
       "<style scoped>\n",
       "    .dataframe tbody tr th:only-of-type {\n",
       "        vertical-align: middle;\n",
       "    }\n",
       "\n",
       "    .dataframe tbody tr th {\n",
       "        vertical-align: top;\n",
       "    }\n",
       "\n",
       "    .dataframe thead th {\n",
       "        text-align: right;\n",
       "    }\n",
       "</style>\n",
       "<table border=\"1\" class=\"dataframe\">\n",
       "  <thead>\n",
       "    <tr style=\"text-align: right;\">\n",
       "      <th></th>\n",
       "      <th>InvoiceNo</th>\n",
       "      <th>StockCode</th>\n",
       "      <th>Description</th>\n",
       "      <th>Quantity</th>\n",
       "      <th>InvoiceDate</th>\n",
       "      <th>UnitPrice</th>\n",
       "      <th>CustomerID</th>\n",
       "      <th>Country</th>\n",
       "    </tr>\n",
       "  </thead>\n",
       "  <tbody>\n",
       "  </tbody>\n",
       "</table>\n",
       "</div>"
      ],
      "text/plain": [
       "Empty DataFrame\n",
       "Columns: [InvoiceNo, StockCode, Description, Quantity, InvoiceDate, UnitPrice, CustomerID, Country]\n",
       "Index: []"
      ]
     },
     "execution_count": 8,
     "metadata": {},
     "output_type": "execute_result"
    }
   ],
   "source": [
    "Data[Data['InvoiceNo'].isin(invoice_null_custid) & (~Data['CustomerID'].isnull())]"
   ]
  },
  {
   "cell_type": "code",
   "execution_count": 9,
   "id": "49ed3a30",
   "metadata": {},
   "outputs": [
    {
     "data": {
      "text/plain": [
       "(406829, 7)"
      ]
     },
     "execution_count": 9,
     "metadata": {},
     "output_type": "execute_result"
    }
   ],
   "source": [
    "# We can drop Description feature from our data since it is not not going to contribute in our model.\n",
    "\n",
    "Data = Data.drop('Description', axis=1)\n",
    "Data = Data.dropna()\n",
    "Data.shape"
   ]
  },
  {
   "cell_type": "code",
   "execution_count": 10,
   "id": "ce42812c",
   "metadata": {},
   "outputs": [
    {
     "name": "stdout",
     "output_type": "stream",
     "text": [
      "<class 'pandas.core.frame.DataFrame'>\n",
      "Int64Index: 406829 entries, 0 to 541908\n",
      "Data columns (total 7 columns):\n",
      " #   Column       Non-Null Count   Dtype         \n",
      "---  ------       --------------   -----         \n",
      " 0   InvoiceNo    406829 non-null  object        \n",
      " 1   StockCode    406829 non-null  object        \n",
      " 2   Quantity     406829 non-null  int64         \n",
      " 3   InvoiceDate  406829 non-null  datetime64[ns]\n",
      " 4   UnitPrice    406829 non-null  float64       \n",
      " 5   CustomerID   406829 non-null  float64       \n",
      " 6   Country      406829 non-null  object        \n",
      "dtypes: datetime64[ns](1), float64(2), int64(1), object(3)\n",
      "memory usage: 24.8+ MB\n"
     ]
    }
   ],
   "source": [
    "Data.info()"
   ]
  },
  {
   "cell_type": "code",
   "execution_count": 11,
   "id": "73355885",
   "metadata": {},
   "outputs": [
    {
     "data": {
      "text/plain": [
       "(401602, 7)"
      ]
     },
     "execution_count": 11,
     "metadata": {},
     "output_type": "execute_result"
    }
   ],
   "source": [
    "# Remove duplicate data records\n",
    "\n",
    "Data = Data.drop_duplicates()\n",
    "Data.shape"
   ]
  },
  {
   "cell_type": "code",
   "execution_count": 12,
   "id": "50d5284f",
   "metadata": {},
   "outputs": [],
   "source": [
    "# Perform descriptive anaylysis on the given data\n",
    "\n",
    "# CustomerID is 'float64', changing the datatype of CustomerId to string,\n",
    "# as Customer ID as numerical data does not make sense\n",
    "\n",
    "Data['CustomerID'] = Data['CustomerID'].astype(str)"
   ]
  },
  {
   "cell_type": "code",
   "execution_count": 13,
   "id": "e17f1a03",
   "metadata": {},
   "outputs": [
    {
     "data": {
      "text/html": [
       "<div>\n",
       "<style scoped>\n",
       "    .dataframe tbody tr th:only-of-type {\n",
       "        vertical-align: middle;\n",
       "    }\n",
       "\n",
       "    .dataframe tbody tr th {\n",
       "        vertical-align: top;\n",
       "    }\n",
       "\n",
       "    .dataframe thead th {\n",
       "        text-align: right;\n",
       "    }\n",
       "</style>\n",
       "<table border=\"1\" class=\"dataframe\">\n",
       "  <thead>\n",
       "    <tr style=\"text-align: right;\">\n",
       "      <th></th>\n",
       "      <th>Quantity</th>\n",
       "      <th>InvoiceDate</th>\n",
       "      <th>UnitPrice</th>\n",
       "    </tr>\n",
       "  </thead>\n",
       "  <tbody>\n",
       "    <tr>\n",
       "      <th>count</th>\n",
       "      <td>401602.000000</td>\n",
       "      <td>401602</td>\n",
       "      <td>401602.000000</td>\n",
       "    </tr>\n",
       "    <tr>\n",
       "      <th>mean</th>\n",
       "      <td>12.182579</td>\n",
       "      <td>2011-07-10 12:08:08.129839872</td>\n",
       "      <td>3.474064</td>\n",
       "    </tr>\n",
       "    <tr>\n",
       "      <th>min</th>\n",
       "      <td>-80995.000000</td>\n",
       "      <td>2010-12-01 08:26:00</td>\n",
       "      <td>0.000000</td>\n",
       "    </tr>\n",
       "    <tr>\n",
       "      <th>25%</th>\n",
       "      <td>2.000000</td>\n",
       "      <td>2011-04-06 15:02:00</td>\n",
       "      <td>1.250000</td>\n",
       "    </tr>\n",
       "    <tr>\n",
       "      <th>50%</th>\n",
       "      <td>5.000000</td>\n",
       "      <td>2011-07-29 15:40:00</td>\n",
       "      <td>1.950000</td>\n",
       "    </tr>\n",
       "    <tr>\n",
       "      <th>75%</th>\n",
       "      <td>12.000000</td>\n",
       "      <td>2011-10-20 11:58:00</td>\n",
       "      <td>3.750000</td>\n",
       "    </tr>\n",
       "    <tr>\n",
       "      <th>max</th>\n",
       "      <td>80995.000000</td>\n",
       "      <td>2011-12-09 12:50:00</td>\n",
       "      <td>38970.000000</td>\n",
       "    </tr>\n",
       "    <tr>\n",
       "      <th>std</th>\n",
       "      <td>250.283248</td>\n",
       "      <td>NaN</td>\n",
       "      <td>69.764209</td>\n",
       "    </tr>\n",
       "  </tbody>\n",
       "</table>\n",
       "</div>"
      ],
      "text/plain": [
       "            Quantity                    InvoiceDate      UnitPrice\n",
       "count  401602.000000                         401602  401602.000000\n",
       "mean       12.182579  2011-07-10 12:08:08.129839872       3.474064\n",
       "min    -80995.000000            2010-12-01 08:26:00       0.000000\n",
       "25%         2.000000            2011-04-06 15:02:00       1.250000\n",
       "50%         5.000000            2011-07-29 15:40:00       1.950000\n",
       "75%        12.000000            2011-10-20 11:58:00       3.750000\n",
       "max     80995.000000            2011-12-09 12:50:00   38970.000000\n",
       "std       250.283248                            NaN      69.764209"
      ]
     },
     "execution_count": 13,
     "metadata": {},
     "output_type": "execute_result"
    }
   ],
   "source": [
    "Data.describe(datetime_is_numeric=True)"
   ]
  },
  {
   "cell_type": "code",
   "execution_count": 14,
   "id": "777adbb0",
   "metadata": {},
   "outputs": [],
   "source": [
    "# From above data:\n",
    "# Quantity: Average quantity of each product in transaction is 12.18.\n",
    "# Also note that minimum value in Quantity column is negative.\n",
    "# This implies that some customers had returned the product during our period of analysis.\n",
    "\n",
    "# InvoiceDate: Our data has transaction between 01-12-2010 to 09-12-2011\n",
    "# UnitPrice: Average price of each product in transactions is 3.47"
   ]
  },
  {
   "cell_type": "code",
   "execution_count": 15,
   "id": "7d124517",
   "metadata": {},
   "outputs": [
    {
     "data": {
      "text/html": [
       "<div>\n",
       "<style scoped>\n",
       "    .dataframe tbody tr th:only-of-type {\n",
       "        vertical-align: middle;\n",
       "    }\n",
       "\n",
       "    .dataframe tbody tr th {\n",
       "        vertical-align: top;\n",
       "    }\n",
       "\n",
       "    .dataframe thead th {\n",
       "        text-align: right;\n",
       "    }\n",
       "</style>\n",
       "<table border=\"1\" class=\"dataframe\">\n",
       "  <thead>\n",
       "    <tr style=\"text-align: right;\">\n",
       "      <th></th>\n",
       "      <th>InvoiceNo</th>\n",
       "      <th>StockCode</th>\n",
       "      <th>CustomerID</th>\n",
       "      <th>Country</th>\n",
       "    </tr>\n",
       "  </thead>\n",
       "  <tbody>\n",
       "    <tr>\n",
       "      <th>count</th>\n",
       "      <td>401602</td>\n",
       "      <td>401602</td>\n",
       "      <td>401602</td>\n",
       "      <td>401602</td>\n",
       "    </tr>\n",
       "    <tr>\n",
       "      <th>unique</th>\n",
       "      <td>22190</td>\n",
       "      <td>3684</td>\n",
       "      <td>4372</td>\n",
       "      <td>37</td>\n",
       "    </tr>\n",
       "    <tr>\n",
       "      <th>top</th>\n",
       "      <td>576339</td>\n",
       "      <td>85123A</td>\n",
       "      <td>17841.0</td>\n",
       "      <td>United Kingdom</td>\n",
       "    </tr>\n",
       "    <tr>\n",
       "      <th>freq</th>\n",
       "      <td>542</td>\n",
       "      <td>2065</td>\n",
       "      <td>7812</td>\n",
       "      <td>356726</td>\n",
       "    </tr>\n",
       "  </tbody>\n",
       "</table>\n",
       "</div>"
      ],
      "text/plain": [
       "        InvoiceNo StockCode CustomerID         Country\n",
       "count      401602    401602     401602          401602\n",
       "unique      22190      3684       4372              37\n",
       "top        576339    85123A    17841.0  United Kingdom\n",
       "freq          542      2065       7812          356726"
      ]
     },
     "execution_count": 15,
     "metadata": {},
     "output_type": "execute_result"
    }
   ],
   "source": [
    "Data.describe(include=['O'])\n",
    "# include=['O'], it pulls out the objects dtypes attributes and shows their count/frequency/max/quartiles."
   ]
  },
  {
   "cell_type": "code",
   "execution_count": 16,
   "id": "ff0a3dcd",
   "metadata": {},
   "outputs": [],
   "source": [
    "# From above data:\n",
    "# InvoiceNo: Total entries in preprocessed data are 4,01,602 but transactions are 22,190.\n",
    "# Most number of entries (count of unique products) are in Invoice No. '576339' and is 542 nos.\n",
    "\n",
    "# StockCode: There are total 3684 unique products in our data,\n",
    "# And product with stock code '85123A' appears most frequently (2065 times) in our data.\n",
    "\n",
    "# CustomerID: There are 4372 unique customers in our final preprocessed data.\n",
    "# Customer with ID '17841' appears most frequently in data (7812 times)\n",
    "\n",
    "# Country: Company has customers across 37 countries. Most entries are from United Kingdom in our dataset (356726)"
   ]
  },
  {
   "cell_type": "code",
   "execution_count": 17,
   "id": "7282785d",
   "metadata": {},
   "outputs": [],
   "source": [
    "# Data Transformation:Perform Cohort Analysis\n",
    "# Cohort analysis is a tool to measure user engagement over time.\n",
    "# It helps to know whether user engagement is actually getting better over time or is only appearing to improve because of growth.\n",
    "\n",
    "# Create month cohort of customers and analyze active customers in each cohort"
   ]
  },
  {
   "cell_type": "code",
   "execution_count": 18,
   "id": "f501456b",
   "metadata": {},
   "outputs": [
    {
     "data": {
      "text/plain": [
       "13"
      ]
     },
     "execution_count": 18,
     "metadata": {},
     "output_type": "execute_result"
    }
   ],
   "source": [
    "# Convert InvoiceDate to Year-Month format\n",
    "\n",
    "Data['month_year'] = Data['InvoiceDate'].dt.to_period('M')\n",
    "Data['month_year'].nunique()"
   ]
  },
  {
   "cell_type": "code",
   "execution_count": 19,
   "id": "4bef2590",
   "metadata": {},
   "outputs": [
    {
     "data": {
      "text/plain": [
       "month_year\n",
       "2010-12     948\n",
       "2011-01     783\n",
       "2011-02     798\n",
       "2011-03    1020\n",
       "2011-04     899\n",
       "2011-05    1079\n",
       "2011-06    1051\n",
       "2011-07     993\n",
       "2011-08     980\n",
       "2011-09    1302\n",
       "2011-10    1425\n",
       "2011-11    1711\n",
       "2011-12     686\n",
       "Freq: M, Name: CustomerID, dtype: int64"
      ]
     },
     "execution_count": 19,
     "metadata": {},
     "output_type": "execute_result"
    }
   ],
   "source": [
    "month_cohort = Data.groupby('month_year')['CustomerID'].nunique()\n",
    "month_cohort"
   ]
  },
  {
   "cell_type": "code",
   "execution_count": 20,
   "id": "81678cc2",
   "metadata": {},
   "outputs": [
    {
     "data": {
      "text/plain": [
       "Text(0.5, 1.0, 'No. of active customers in each month')"
      ]
     },
     "execution_count": 20,
     "metadata": {},
     "output_type": "execute_result"
    },
    {
     "data": {
      "image/png": "[encoded data removed]",
      "text/plain": [
       "<Figure size 720x360 with 1 Axes>"
      ]
     },
     "metadata": {
      "needs_background": "light"
     },
     "output_type": "display_data"
    }
   ],
   "source": [
    "plt.figure(figsize=(10,5))\n",
    "sns.barplot(y = month_cohort.index, x = month_cohort.values);\n",
    "plt.xlabel(\"Count of customers\")\n",
    "plt.title(\"No. of active customers in each month\")"
   ]
  },
  {
   "cell_type": "code",
   "execution_count": 21,
   "id": "f60fbf2a",
   "metadata": {},
   "outputs": [],
   "source": [
    "#  Analyze the retention rate of customers:"
   ]
  },
  {
   "cell_type": "code",
   "execution_count": 22,
   "id": "112c74cb",
   "metadata": {},
   "outputs": [
    {
     "data": {
      "text/plain": [
       "month_year\n",
       "2010-12       NaN\n",
       "2011-01    -165.0\n",
       "2011-02      15.0\n",
       "2011-03     222.0\n",
       "2011-04    -121.0\n",
       "2011-05     180.0\n",
       "2011-06     -28.0\n",
       "2011-07     -58.0\n",
       "2011-08     -13.0\n",
       "2011-09     322.0\n",
       "2011-10     123.0\n",
       "2011-11     286.0\n",
       "2011-12   -1025.0\n",
       "Freq: M, Name: CustomerID, dtype: float64"
      ]
     },
     "execution_count": 22,
     "metadata": {},
     "output_type": "execute_result"
    }
   ],
   "source": [
    "month_cohort - month_cohort.shift(1)"
   ]
  },
  {
   "cell_type": "code",
   "execution_count": 23,
   "id": "d4da377a",
   "metadata": {},
   "outputs": [
    {
     "data": {
      "text/plain": [
       "month_year\n",
       "2010-12      NaN\n",
       "2011-01   -17.41\n",
       "2011-02     1.92\n",
       "2011-03    27.82\n",
       "2011-04   -11.86\n",
       "2011-05    20.02\n",
       "2011-06    -2.59\n",
       "2011-07    -5.52\n",
       "2011-08    -1.31\n",
       "2011-09    32.86\n",
       "2011-10     9.45\n",
       "2011-11    20.07\n",
       "2011-12   -59.91\n",
       "Freq: M, Name: CustomerID, dtype: float64"
      ]
     },
     "execution_count": 23,
     "metadata": {},
     "output_type": "execute_result"
    }
   ],
   "source": [
    "retention_rate = round(month_cohort.pct_change(periods=1)*100,2)\n",
    "retention_rate"
   ]
  },
  {
   "cell_type": "code",
   "execution_count": 24,
   "id": "d3ee1123",
   "metadata": {},
   "outputs": [
    {
     "data": {
      "image/png": "[encoded data removed]",
      "text/plain": [
       "<Figure size 720x360 with 1 Axes>"
      ]
     },
     "metadata": {
      "needs_background": "light"
     },
     "output_type": "display_data"
    }
   ],
   "source": [
    "plt.figure(figsize=(10,5))\n",
    "sns.barplot(y = retention_rate.index, x = retention_rate.values);\n",
    "plt.xlabel(\"Retention (in %)\")\n",
    "plt.title(\"Month-wise customer retention rate\");"
   ]
  },
  {
   "cell_type": "code",
   "execution_count": 25,
   "id": "db86a501",
   "metadata": {},
   "outputs": [],
   "source": [
    "# Monetary analysis:"
   ]
  },
  {
   "cell_type": "code",
   "execution_count": 26,
   "id": "bef69d00",
   "metadata": {},
   "outputs": [
    {
     "data": {
      "text/html": [
       "<div>\n",
       "<style scoped>\n",
       "    .dataframe tbody tr th:only-of-type {\n",
       "        vertical-align: middle;\n",
       "    }\n",
       "\n",
       "    .dataframe tbody tr th {\n",
       "        vertical-align: top;\n",
       "    }\n",
       "\n",
       "    .dataframe thead th {\n",
       "        text-align: right;\n",
       "    }\n",
       "</style>\n",
       "<table border=\"1\" class=\"dataframe\">\n",
       "  <thead>\n",
       "    <tr style=\"text-align: right;\">\n",
       "      <th></th>\n",
       "      <th>InvoiceNo</th>\n",
       "      <th>StockCode</th>\n",
       "      <th>Quantity</th>\n",
       "      <th>InvoiceDate</th>\n",
       "      <th>UnitPrice</th>\n",
       "      <th>CustomerID</th>\n",
       "      <th>Country</th>\n",
       "      <th>month_year</th>\n",
       "      <th>amount</th>\n",
       "    </tr>\n",
       "  </thead>\n",
       "  <tbody>\n",
       "    <tr>\n",
       "      <th>0</th>\n",
       "      <td>536365</td>\n",
       "      <td>85123A</td>\n",
       "      <td>6</td>\n",
       "      <td>2010-12-01 08:26:00</td>\n",
       "      <td>2.55</td>\n",
       "      <td>17850.0</td>\n",
       "      <td>United Kingdom</td>\n",
       "      <td>2010-12</td>\n",
       "      <td>15.30</td>\n",
       "    </tr>\n",
       "    <tr>\n",
       "      <th>1</th>\n",
       "      <td>536365</td>\n",
       "      <td>71053</td>\n",
       "      <td>6</td>\n",
       "      <td>2010-12-01 08:26:00</td>\n",
       "      <td>3.39</td>\n",
       "      <td>17850.0</td>\n",
       "      <td>United Kingdom</td>\n",
       "      <td>2010-12</td>\n",
       "      <td>20.34</td>\n",
       "    </tr>\n",
       "    <tr>\n",
       "      <th>2</th>\n",
       "      <td>536365</td>\n",
       "      <td>84406B</td>\n",
       "      <td>8</td>\n",
       "      <td>2010-12-01 08:26:00</td>\n",
       "      <td>2.75</td>\n",
       "      <td>17850.0</td>\n",
       "      <td>United Kingdom</td>\n",
       "      <td>2010-12</td>\n",
       "      <td>22.00</td>\n",
       "    </tr>\n",
       "    <tr>\n",
       "      <th>3</th>\n",
       "      <td>536365</td>\n",
       "      <td>84029G</td>\n",
       "      <td>6</td>\n",
       "      <td>2010-12-01 08:26:00</td>\n",
       "      <td>3.39</td>\n",
       "      <td>17850.0</td>\n",
       "      <td>United Kingdom</td>\n",
       "      <td>2010-12</td>\n",
       "      <td>20.34</td>\n",
       "    </tr>\n",
       "    <tr>\n",
       "      <th>4</th>\n",
       "      <td>536365</td>\n",
       "      <td>84029E</td>\n",
       "      <td>6</td>\n",
       "      <td>2010-12-01 08:26:00</td>\n",
       "      <td>3.39</td>\n",
       "      <td>17850.0</td>\n",
       "      <td>United Kingdom</td>\n",
       "      <td>2010-12</td>\n",
       "      <td>20.34</td>\n",
       "    </tr>\n",
       "  </tbody>\n",
       "</table>\n",
       "</div>"
      ],
      "text/plain": [
       "  InvoiceNo StockCode  Quantity         InvoiceDate  UnitPrice CustomerID  \\\n",
       "0    536365    85123A         6 2010-12-01 08:26:00       2.55    17850.0   \n",
       "1    536365     71053         6 2010-12-01 08:26:00       3.39    17850.0   \n",
       "2    536365    84406B         8 2010-12-01 08:26:00       2.75    17850.0   \n",
       "3    536365    84029G         6 2010-12-01 08:26:00       3.39    17850.0   \n",
       "4    536365    84029E         6 2010-12-01 08:26:00       3.39    17850.0   \n",
       "\n",
       "          Country month_year  amount  \n",
       "0  United Kingdom    2010-12   15.30  \n",
       "1  United Kingdom    2010-12   20.34  \n",
       "2  United Kingdom    2010-12   22.00  \n",
       "3  United Kingdom    2010-12   20.34  \n",
       "4  United Kingdom    2010-12   20.34  "
      ]
     },
     "execution_count": 26,
     "metadata": {},
     "output_type": "execute_result"
    }
   ],
   "source": [
    "Data['amount'] = Data['Quantity']*Data['UnitPrice']\n",
    "Data.head()"
   ]
  },
  {
   "cell_type": "code",
   "execution_count": 27,
   "id": "5bf739b4",
   "metadata": {},
   "outputs": [
    {
     "data": {
      "text/html": [
       "<div>\n",
       "<style scoped>\n",
       "    .dataframe tbody tr th:only-of-type {\n",
       "        vertical-align: middle;\n",
       "    }\n",
       "\n",
       "    .dataframe tbody tr th {\n",
       "        vertical-align: top;\n",
       "    }\n",
       "\n",
       "    .dataframe thead th {\n",
       "        text-align: right;\n",
       "    }\n",
       "</style>\n",
       "<table border=\"1\" class=\"dataframe\">\n",
       "  <thead>\n",
       "    <tr style=\"text-align: right;\">\n",
       "      <th></th>\n",
       "      <th>CustomerID</th>\n",
       "      <th>amount</th>\n",
       "    </tr>\n",
       "  </thead>\n",
       "  <tbody>\n",
       "    <tr>\n",
       "      <th>0</th>\n",
       "      <td>12346.0</td>\n",
       "      <td>0.00</td>\n",
       "    </tr>\n",
       "    <tr>\n",
       "      <th>1</th>\n",
       "      <td>12347.0</td>\n",
       "      <td>4310.00</td>\n",
       "    </tr>\n",
       "    <tr>\n",
       "      <th>2</th>\n",
       "      <td>12348.0</td>\n",
       "      <td>1797.24</td>\n",
       "    </tr>\n",
       "    <tr>\n",
       "      <th>3</th>\n",
       "      <td>12349.0</td>\n",
       "      <td>1757.55</td>\n",
       "    </tr>\n",
       "    <tr>\n",
       "      <th>4</th>\n",
       "      <td>12350.0</td>\n",
       "      <td>334.40</td>\n",
       "    </tr>\n",
       "    <tr>\n",
       "      <th>...</th>\n",
       "      <td>...</td>\n",
       "      <td>...</td>\n",
       "    </tr>\n",
       "    <tr>\n",
       "      <th>4367</th>\n",
       "      <td>18280.0</td>\n",
       "      <td>180.60</td>\n",
       "    </tr>\n",
       "    <tr>\n",
       "      <th>4368</th>\n",
       "      <td>18281.0</td>\n",
       "      <td>80.82</td>\n",
       "    </tr>\n",
       "    <tr>\n",
       "      <th>4369</th>\n",
       "      <td>18282.0</td>\n",
       "      <td>176.60</td>\n",
       "    </tr>\n",
       "    <tr>\n",
       "      <th>4370</th>\n",
       "      <td>18283.0</td>\n",
       "      <td>2045.53</td>\n",
       "    </tr>\n",
       "    <tr>\n",
       "      <th>4371</th>\n",
       "      <td>18287.0</td>\n",
       "      <td>1837.28</td>\n",
       "    </tr>\n",
       "  </tbody>\n",
       "</table>\n",
       "<p>4372 rows × 2 columns</p>\n",
       "</div>"
      ],
      "text/plain": [
       "     CustomerID   amount\n",
       "0       12346.0     0.00\n",
       "1       12347.0  4310.00\n",
       "2       12348.0  1797.24\n",
       "3       12349.0  1757.55\n",
       "4       12350.0   334.40\n",
       "...         ...      ...\n",
       "4367    18280.0   180.60\n",
       "4368    18281.0    80.82\n",
       "4369    18282.0   176.60\n",
       "4370    18283.0  2045.53\n",
       "4371    18287.0  1837.28\n",
       "\n",
       "[4372 rows x 2 columns]"
      ]
     },
     "execution_count": 27,
     "metadata": {},
     "output_type": "execute_result"
    }
   ],
   "source": [
    "Data_monetary = Data.groupby('CustomerID').sum()['amount'].reset_index()\n",
    "Data_monetary"
   ]
  },
  {
   "cell_type": "code",
   "execution_count": 28,
   "id": "e21597c9",
   "metadata": {},
   "outputs": [],
   "source": [
    "# Frequency Analysis:"
   ]
  },
  {
   "cell_type": "code",
   "execution_count": 29,
   "id": "316e50f9",
   "metadata": {},
   "outputs": [
    {
     "data": {
      "text/html": [
       "<div>\n",
       "<style scoped>\n",
       "    .dataframe tbody tr th:only-of-type {\n",
       "        vertical-align: middle;\n",
       "    }\n",
       "\n",
       "    .dataframe tbody tr th {\n",
       "        vertical-align: top;\n",
       "    }\n",
       "\n",
       "    .dataframe thead th {\n",
       "        text-align: right;\n",
       "    }\n",
       "</style>\n",
       "<table border=\"1\" class=\"dataframe\">\n",
       "  <thead>\n",
       "    <tr style=\"text-align: right;\">\n",
       "      <th></th>\n",
       "      <th>CustomerID</th>\n",
       "      <th>InvoiceNo</th>\n",
       "    </tr>\n",
       "  </thead>\n",
       "  <tbody>\n",
       "    <tr>\n",
       "      <th>0</th>\n",
       "      <td>12346.0</td>\n",
       "      <td>2</td>\n",
       "    </tr>\n",
       "    <tr>\n",
       "      <th>1</th>\n",
       "      <td>12347.0</td>\n",
       "      <td>7</td>\n",
       "    </tr>\n",
       "    <tr>\n",
       "      <th>2</th>\n",
       "      <td>12348.0</td>\n",
       "      <td>4</td>\n",
       "    </tr>\n",
       "    <tr>\n",
       "      <th>3</th>\n",
       "      <td>12349.0</td>\n",
       "      <td>1</td>\n",
       "    </tr>\n",
       "    <tr>\n",
       "      <th>4</th>\n",
       "      <td>12350.0</td>\n",
       "      <td>1</td>\n",
       "    </tr>\n",
       "    <tr>\n",
       "      <th>...</th>\n",
       "      <td>...</td>\n",
       "      <td>...</td>\n",
       "    </tr>\n",
       "    <tr>\n",
       "      <th>4367</th>\n",
       "      <td>18280.0</td>\n",
       "      <td>1</td>\n",
       "    </tr>\n",
       "    <tr>\n",
       "      <th>4368</th>\n",
       "      <td>18281.0</td>\n",
       "      <td>1</td>\n",
       "    </tr>\n",
       "    <tr>\n",
       "      <th>4369</th>\n",
       "      <td>18282.0</td>\n",
       "      <td>3</td>\n",
       "    </tr>\n",
       "    <tr>\n",
       "      <th>4370</th>\n",
       "      <td>18283.0</td>\n",
       "      <td>16</td>\n",
       "    </tr>\n",
       "    <tr>\n",
       "      <th>4371</th>\n",
       "      <td>18287.0</td>\n",
       "      <td>3</td>\n",
       "    </tr>\n",
       "  </tbody>\n",
       "</table>\n",
       "<p>4372 rows × 2 columns</p>\n",
       "</div>"
      ],
      "text/plain": [
       "     CustomerID  InvoiceNo\n",
       "0       12346.0          2\n",
       "1       12347.0          7\n",
       "2       12348.0          4\n",
       "3       12349.0          1\n",
       "4       12350.0          1\n",
       "...         ...        ...\n",
       "4367    18280.0          1\n",
       "4368    18281.0          1\n",
       "4369    18282.0          3\n",
       "4370    18283.0         16\n",
       "4371    18287.0          3\n",
       "\n",
       "[4372 rows x 2 columns]"
      ]
     },
     "execution_count": 29,
     "metadata": {},
     "output_type": "execute_result"
    }
   ],
   "source": [
    "Data_frequency = Data.groupby('CustomerID').nunique()['InvoiceNo'].reset_index()\n",
    "Data_frequency"
   ]
  },
  {
   "cell_type": "code",
   "execution_count": 30,
   "id": "b076bf86",
   "metadata": {},
   "outputs": [],
   "source": [
    "# Recency Analysis:"
   ]
  },
  {
   "cell_type": "code",
   "execution_count": 31,
   "id": "c89032fc",
   "metadata": {},
   "outputs": [
    {
     "data": {
      "text/plain": [
       "Timestamp('2011-12-10 12:50:00')"
      ]
     },
     "execution_count": 31,
     "metadata": {},
     "output_type": "execute_result"
    }
   ],
   "source": [
    "# We will fix reference date for calculating recency as last transaction day in data + 1 day\n",
    "\n",
    "ref_day = max(Data['InvoiceDate']) + timedelta(days=1)\n",
    "ref_day"
   ]
  },
  {
   "cell_type": "code",
   "execution_count": 32,
   "id": "134c9794",
   "metadata": {},
   "outputs": [
    {
     "data": {
      "text/html": [
       "<div>\n",
       "<style scoped>\n",
       "    .dataframe tbody tr th:only-of-type {\n",
       "        vertical-align: middle;\n",
       "    }\n",
       "\n",
       "    .dataframe tbody tr th {\n",
       "        vertical-align: top;\n",
       "    }\n",
       "\n",
       "    .dataframe thead th {\n",
       "        text-align: right;\n",
       "    }\n",
       "</style>\n",
       "<table border=\"1\" class=\"dataframe\">\n",
       "  <thead>\n",
       "    <tr style=\"text-align: right;\">\n",
       "      <th></th>\n",
       "      <th>InvoiceNo</th>\n",
       "      <th>StockCode</th>\n",
       "      <th>Quantity</th>\n",
       "      <th>InvoiceDate</th>\n",
       "      <th>UnitPrice</th>\n",
       "      <th>CustomerID</th>\n",
       "      <th>Country</th>\n",
       "      <th>month_year</th>\n",
       "      <th>amount</th>\n",
       "      <th>days_to_last_order</th>\n",
       "    </tr>\n",
       "  </thead>\n",
       "  <tbody>\n",
       "    <tr>\n",
       "      <th>0</th>\n",
       "      <td>536365</td>\n",
       "      <td>85123A</td>\n",
       "      <td>6</td>\n",
       "      <td>2010-12-01 08:26:00</td>\n",
       "      <td>2.55</td>\n",
       "      <td>17850.0</td>\n",
       "      <td>United Kingdom</td>\n",
       "      <td>2010-12</td>\n",
       "      <td>15.30</td>\n",
       "      <td>374</td>\n",
       "    </tr>\n",
       "    <tr>\n",
       "      <th>1</th>\n",
       "      <td>536365</td>\n",
       "      <td>71053</td>\n",
       "      <td>6</td>\n",
       "      <td>2010-12-01 08:26:00</td>\n",
       "      <td>3.39</td>\n",
       "      <td>17850.0</td>\n",
       "      <td>United Kingdom</td>\n",
       "      <td>2010-12</td>\n",
       "      <td>20.34</td>\n",
       "      <td>374</td>\n",
       "    </tr>\n",
       "    <tr>\n",
       "      <th>2</th>\n",
       "      <td>536365</td>\n",
       "      <td>84406B</td>\n",
       "      <td>8</td>\n",
       "      <td>2010-12-01 08:26:00</td>\n",
       "      <td>2.75</td>\n",
       "      <td>17850.0</td>\n",
       "      <td>United Kingdom</td>\n",
       "      <td>2010-12</td>\n",
       "      <td>22.00</td>\n",
       "      <td>374</td>\n",
       "    </tr>\n",
       "    <tr>\n",
       "      <th>3</th>\n",
       "      <td>536365</td>\n",
       "      <td>84029G</td>\n",
       "      <td>6</td>\n",
       "      <td>2010-12-01 08:26:00</td>\n",
       "      <td>3.39</td>\n",
       "      <td>17850.0</td>\n",
       "      <td>United Kingdom</td>\n",
       "      <td>2010-12</td>\n",
       "      <td>20.34</td>\n",
       "      <td>374</td>\n",
       "    </tr>\n",
       "    <tr>\n",
       "      <th>4</th>\n",
       "      <td>536365</td>\n",
       "      <td>84029E</td>\n",
       "      <td>6</td>\n",
       "      <td>2010-12-01 08:26:00</td>\n",
       "      <td>3.39</td>\n",
       "      <td>17850.0</td>\n",
       "      <td>United Kingdom</td>\n",
       "      <td>2010-12</td>\n",
       "      <td>20.34</td>\n",
       "      <td>374</td>\n",
       "    </tr>\n",
       "  </tbody>\n",
       "</table>\n",
       "</div>"
      ],
      "text/plain": [
       "  InvoiceNo StockCode  Quantity         InvoiceDate  UnitPrice CustomerID  \\\n",
       "0    536365    85123A         6 2010-12-01 08:26:00       2.55    17850.0   \n",
       "1    536365     71053         6 2010-12-01 08:26:00       3.39    17850.0   \n",
       "2    536365    84406B         8 2010-12-01 08:26:00       2.75    17850.0   \n",
       "3    536365    84029G         6 2010-12-01 08:26:00       3.39    17850.0   \n",
       "4    536365    84029E         6 2010-12-01 08:26:00       3.39    17850.0   \n",
       "\n",
       "          Country month_year  amount  days_to_last_order  \n",
       "0  United Kingdom    2010-12   15.30                 374  \n",
       "1  United Kingdom    2010-12   20.34                 374  \n",
       "2  United Kingdom    2010-12   22.00                 374  \n",
       "3  United Kingdom    2010-12   20.34                 374  \n",
       "4  United Kingdom    2010-12   20.34                 374  "
      ]
     },
     "execution_count": 32,
     "metadata": {},
     "output_type": "execute_result"
    }
   ],
   "source": [
    "Data['days_to_last_order'] = (ref_day - Data['InvoiceDate']).dt.days\n",
    "Data.head()"
   ]
  },
  {
   "cell_type": "code",
   "execution_count": 33,
   "id": "ec9ce3a5",
   "metadata": {},
   "outputs": [
    {
     "data": {
      "text/html": [
       "<div>\n",
       "<style scoped>\n",
       "    .dataframe tbody tr th:only-of-type {\n",
       "        vertical-align: middle;\n",
       "    }\n",
       "\n",
       "    .dataframe tbody tr th {\n",
       "        vertical-align: top;\n",
       "    }\n",
       "\n",
       "    .dataframe thead th {\n",
       "        text-align: right;\n",
       "    }\n",
       "</style>\n",
       "<table border=\"1\" class=\"dataframe\">\n",
       "  <thead>\n",
       "    <tr style=\"text-align: right;\">\n",
       "      <th></th>\n",
       "      <th>CustomerID</th>\n",
       "      <th>days_to_last_order</th>\n",
       "    </tr>\n",
       "  </thead>\n",
       "  <tbody>\n",
       "    <tr>\n",
       "      <th>0</th>\n",
       "      <td>12346.0</td>\n",
       "      <td>326</td>\n",
       "    </tr>\n",
       "    <tr>\n",
       "      <th>1</th>\n",
       "      <td>12347.0</td>\n",
       "      <td>2</td>\n",
       "    </tr>\n",
       "    <tr>\n",
       "      <th>2</th>\n",
       "      <td>12348.0</td>\n",
       "      <td>75</td>\n",
       "    </tr>\n",
       "    <tr>\n",
       "      <th>3</th>\n",
       "      <td>12349.0</td>\n",
       "      <td>19</td>\n",
       "    </tr>\n",
       "    <tr>\n",
       "      <th>4</th>\n",
       "      <td>12350.0</td>\n",
       "      <td>310</td>\n",
       "    </tr>\n",
       "    <tr>\n",
       "      <th>...</th>\n",
       "      <td>...</td>\n",
       "      <td>...</td>\n",
       "    </tr>\n",
       "    <tr>\n",
       "      <th>4367</th>\n",
       "      <td>18280.0</td>\n",
       "      <td>278</td>\n",
       "    </tr>\n",
       "    <tr>\n",
       "      <th>4368</th>\n",
       "      <td>18281.0</td>\n",
       "      <td>181</td>\n",
       "    </tr>\n",
       "    <tr>\n",
       "      <th>4369</th>\n",
       "      <td>18282.0</td>\n",
       "      <td>8</td>\n",
       "    </tr>\n",
       "    <tr>\n",
       "      <th>4370</th>\n",
       "      <td>18283.0</td>\n",
       "      <td>4</td>\n",
       "    </tr>\n",
       "    <tr>\n",
       "      <th>4371</th>\n",
       "      <td>18287.0</td>\n",
       "      <td>43</td>\n",
       "    </tr>\n",
       "  </tbody>\n",
       "</table>\n",
       "<p>4372 rows × 2 columns</p>\n",
       "</div>"
      ],
      "text/plain": [
       "     CustomerID  days_to_last_order\n",
       "0       12346.0                 326\n",
       "1       12347.0                   2\n",
       "2       12348.0                  75\n",
       "3       12349.0                  19\n",
       "4       12350.0                 310\n",
       "...         ...                 ...\n",
       "4367    18280.0                 278\n",
       "4368    18281.0                 181\n",
       "4369    18282.0                   8\n",
       "4370    18283.0                   4\n",
       "4371    18287.0                  43\n",
       "\n",
       "[4372 rows x 2 columns]"
      ]
     },
     "execution_count": 33,
     "metadata": {},
     "output_type": "execute_result"
    }
   ],
   "source": [
    "Data_recency = Data.groupby('CustomerID')['days_to_last_order'].min().reset_index()\n",
    "Data_recency"
   ]
  },
  {
   "cell_type": "code",
   "execution_count": 34,
   "id": "1c033739",
   "metadata": {},
   "outputs": [],
   "source": [
    "# Calculate RFM metrics:"
   ]
  },
  {
   "cell_type": "code",
   "execution_count": 35,
   "id": "992a0e22",
   "metadata": {},
   "outputs": [
    {
     "data": {
      "text/html": [
       "<div>\n",
       "<style scoped>\n",
       "    .dataframe tbody tr th:only-of-type {\n",
       "        vertical-align: middle;\n",
       "    }\n",
       "\n",
       "    .dataframe tbody tr th {\n",
       "        vertical-align: top;\n",
       "    }\n",
       "\n",
       "    .dataframe thead th {\n",
       "        text-align: right;\n",
       "    }\n",
       "</style>\n",
       "<table border=\"1\" class=\"dataframe\">\n",
       "  <thead>\n",
       "    <tr style=\"text-align: right;\">\n",
       "      <th></th>\n",
       "      <th>CustomerID</th>\n",
       "      <th>Recency</th>\n",
       "      <th>Frequency</th>\n",
       "      <th>Monetary</th>\n",
       "    </tr>\n",
       "  </thead>\n",
       "  <tbody>\n",
       "    <tr>\n",
       "      <th>0</th>\n",
       "      <td>12346.0</td>\n",
       "      <td>326</td>\n",
       "      <td>2</td>\n",
       "      <td>0.00</td>\n",
       "    </tr>\n",
       "    <tr>\n",
       "      <th>1</th>\n",
       "      <td>12347.0</td>\n",
       "      <td>2</td>\n",
       "      <td>7</td>\n",
       "      <td>4310.00</td>\n",
       "    </tr>\n",
       "    <tr>\n",
       "      <th>2</th>\n",
       "      <td>12348.0</td>\n",
       "      <td>75</td>\n",
       "      <td>4</td>\n",
       "      <td>1797.24</td>\n",
       "    </tr>\n",
       "    <tr>\n",
       "      <th>3</th>\n",
       "      <td>12349.0</td>\n",
       "      <td>19</td>\n",
       "      <td>1</td>\n",
       "      <td>1757.55</td>\n",
       "    </tr>\n",
       "    <tr>\n",
       "      <th>4</th>\n",
       "      <td>12350.0</td>\n",
       "      <td>310</td>\n",
       "      <td>1</td>\n",
       "      <td>334.40</td>\n",
       "    </tr>\n",
       "  </tbody>\n",
       "</table>\n",
       "</div>"
      ],
      "text/plain": [
       "  CustomerID  Recency  Frequency  Monetary\n",
       "0    12346.0      326          2      0.00\n",
       "1    12347.0        2          7   4310.00\n",
       "2    12348.0       75          4   1797.24\n",
       "3    12349.0       19          1   1757.55\n",
       "4    12350.0      310          1    334.40"
      ]
     },
     "execution_count": 35,
     "metadata": {},
     "output_type": "execute_result"
    }
   ],
   "source": [
    "Data_rf = pd.merge(Data_recency, Data_frequency,  on='CustomerID', how='inner')\n",
    "Data_rfm = pd.merge(Data_rf, Data_monetary, on='CustomerID', how='inner')\n",
    "Data_rfm.columns = ['CustomerID', 'Recency', 'Frequency', 'Monetary']\n",
    "Data_rfm.head()"
   ]
  },
  {
   "cell_type": "code",
   "execution_count": 36,
   "id": "d5ae7b82",
   "metadata": {},
   "outputs": [
    {
     "data": {
      "text/plain": [
       "newest    2734\n",
       "newer      588\n",
       "medium     416\n",
       "older      353\n",
       "oldest     281\n",
       "Name: recency_labels, dtype: int64"
      ]
     },
     "execution_count": 36,
     "metadata": {},
     "output_type": "execute_result"
    },
    {
     "data": {
      "image/png": "[encoded data removed]",
      "text/plain": [
       "<Figure size 432x288 with 1 Axes>"
      ]
     },
     "metadata": {
      "needs_background": "light"
     },
     "output_type": "display_data"
    }
   ],
   "source": [
    "# Build RFM Segments:\n",
    "\n",
    "Data_rfm['recency_labels'] = pd.cut(Data_rfm['Recency'], bins=5,\n",
    "                                     labels=['newest', 'newer', 'medium', 'older', 'oldest'])\n",
    "Data_rfm['recency_labels'].value_counts().plot(kind='barh');\n",
    "Data_rfm['recency_labels'].value_counts()"
   ]
  },
  {
   "cell_type": "code",
   "execution_count": 37,
   "id": "720aca7e",
   "metadata": {},
   "outputs": [
    {
     "data": {
      "text/plain": [
       "lowest     4348\n",
       "lower        18\n",
       "medium        3\n",
       "highest       2\n",
       "higher        1\n",
       "Name: frequency_labels, dtype: int64"
      ]
     },
     "execution_count": 37,
     "metadata": {},
     "output_type": "execute_result"
    },
    {
     "data": {
      "image/png": "[encoded data removed]",
      "text/plain": [
       "<Figure size 432x288 with 1 Axes>"
      ]
     },
     "metadata": {
      "needs_background": "light"
     },
     "output_type": "display_data"
    }
   ],
   "source": [
    "Data_rfm['frequency_labels'] = pd.cut(Data_rfm['Frequency'], bins=5, \n",
    "                                      labels=['lowest', 'lower', 'medium', 'higher', 'highest'])\n",
    "Data_rfm['frequency_labels'].value_counts().plot(kind='barh');\n",
    "Data_rfm['frequency_labels'].value_counts()"
   ]
  },
  {
   "cell_type": "code",
   "execution_count": 38,
   "id": "c2fd45ef",
   "metadata": {},
   "outputs": [
    {
     "data": {
      "text/plain": [
       "smallest    4357\n",
       "smaller        9\n",
       "medium         3\n",
       "largest        2\n",
       "larger         1\n",
       "Name: monetary_labels, dtype: int64"
      ]
     },
     "execution_count": 38,
     "metadata": {},
     "output_type": "execute_result"
    },
    {
     "data": {
      "image/png": "[encoded data removed]",
      "text/plain": [
       "<Figure size 432x288 with 1 Axes>"
      ]
     },
     "metadata": {
      "needs_background": "light"
     },
     "output_type": "display_data"
    }
   ],
   "source": [
    "Data_rfm['monetary_labels'] = pd.cut(Data_rfm['Monetary'], bins=5, \n",
    "                                     labels=['smallest', 'smaller', 'medium', 'larger', 'largest'])\n",
    "Data_rfm['monetary_labels'].value_counts().plot(kind='barh');\n",
    "Data_rfm['monetary_labels'].value_counts()"
   ]
  },
  {
   "cell_type": "code",
   "execution_count": 39,
   "id": "c435dbff",
   "metadata": {},
   "outputs": [
    {
     "data": {
      "text/html": [
       "<div>\n",
       "<style scoped>\n",
       "    .dataframe tbody tr th:only-of-type {\n",
       "        vertical-align: middle;\n",
       "    }\n",
       "\n",
       "    .dataframe tbody tr th {\n",
       "        vertical-align: top;\n",
       "    }\n",
       "\n",
       "    .dataframe thead th {\n",
       "        text-align: right;\n",
       "    }\n",
       "</style>\n",
       "<table border=\"1\" class=\"dataframe\">\n",
       "  <thead>\n",
       "    <tr style=\"text-align: right;\">\n",
       "      <th></th>\n",
       "      <th>CustomerID</th>\n",
       "      <th>Recency</th>\n",
       "      <th>Frequency</th>\n",
       "      <th>Monetary</th>\n",
       "      <th>recency_labels</th>\n",
       "      <th>frequency_labels</th>\n",
       "      <th>monetary_labels</th>\n",
       "    </tr>\n",
       "  </thead>\n",
       "  <tbody>\n",
       "    <tr>\n",
       "      <th>0</th>\n",
       "      <td>12346.0</td>\n",
       "      <td>326</td>\n",
       "      <td>2</td>\n",
       "      <td>0.00</td>\n",
       "      <td>oldest</td>\n",
       "      <td>lowest</td>\n",
       "      <td>smallest</td>\n",
       "    </tr>\n",
       "    <tr>\n",
       "      <th>1</th>\n",
       "      <td>12347.0</td>\n",
       "      <td>2</td>\n",
       "      <td>7</td>\n",
       "      <td>4310.00</td>\n",
       "      <td>newest</td>\n",
       "      <td>lowest</td>\n",
       "      <td>smallest</td>\n",
       "    </tr>\n",
       "    <tr>\n",
       "      <th>2</th>\n",
       "      <td>12348.0</td>\n",
       "      <td>75</td>\n",
       "      <td>4</td>\n",
       "      <td>1797.24</td>\n",
       "      <td>newest</td>\n",
       "      <td>lowest</td>\n",
       "      <td>smallest</td>\n",
       "    </tr>\n",
       "    <tr>\n",
       "      <th>3</th>\n",
       "      <td>12349.0</td>\n",
       "      <td>19</td>\n",
       "      <td>1</td>\n",
       "      <td>1757.55</td>\n",
       "      <td>newest</td>\n",
       "      <td>lowest</td>\n",
       "      <td>smallest</td>\n",
       "    </tr>\n",
       "    <tr>\n",
       "      <th>4</th>\n",
       "      <td>12350.0</td>\n",
       "      <td>310</td>\n",
       "      <td>1</td>\n",
       "      <td>334.40</td>\n",
       "      <td>oldest</td>\n",
       "      <td>lowest</td>\n",
       "      <td>smallest</td>\n",
       "    </tr>\n",
       "  </tbody>\n",
       "</table>\n",
       "</div>"
      ],
      "text/plain": [
       "  CustomerID  Recency  Frequency  Monetary recency_labels frequency_labels  \\\n",
       "0    12346.0      326          2      0.00         oldest           lowest   \n",
       "1    12347.0        2          7   4310.00         newest           lowest   \n",
       "2    12348.0       75          4   1797.24         newest           lowest   \n",
       "3    12349.0       19          1   1757.55         newest           lowest   \n",
       "4    12350.0      310          1    334.40         oldest           lowest   \n",
       "\n",
       "  monetary_labels  \n",
       "0        smallest  \n",
       "1        smallest  \n",
       "2        smallest  \n",
       "3        smallest  \n",
       "4        smallest  "
      ]
     },
     "execution_count": 39,
     "metadata": {},
     "output_type": "execute_result"
    }
   ],
   "source": [
    "Data_rfm.head()"
   ]
  },
  {
   "cell_type": "code",
   "execution_count": 40,
   "id": "ca41eaf3",
   "metadata": {},
   "outputs": [
    {
     "data": {
      "text/html": [
       "<div>\n",
       "<style scoped>\n",
       "    .dataframe tbody tr th:only-of-type {\n",
       "        vertical-align: middle;\n",
       "    }\n",
       "\n",
       "    .dataframe tbody tr th {\n",
       "        vertical-align: top;\n",
       "    }\n",
       "\n",
       "    .dataframe thead th {\n",
       "        text-align: right;\n",
       "    }\n",
       "</style>\n",
       "<table border=\"1\" class=\"dataframe\">\n",
       "  <thead>\n",
       "    <tr style=\"text-align: right;\">\n",
       "      <th></th>\n",
       "      <th>CustomerID</th>\n",
       "      <th>Recency</th>\n",
       "      <th>Frequency</th>\n",
       "      <th>Monetary</th>\n",
       "      <th>recency_labels</th>\n",
       "      <th>frequency_labels</th>\n",
       "      <th>monetary_labels</th>\n",
       "      <th>rfm_segment</th>\n",
       "    </tr>\n",
       "  </thead>\n",
       "  <tbody>\n",
       "    <tr>\n",
       "      <th>0</th>\n",
       "      <td>12346.0</td>\n",
       "      <td>326</td>\n",
       "      <td>2</td>\n",
       "      <td>0.00</td>\n",
       "      <td>oldest</td>\n",
       "      <td>lowest</td>\n",
       "      <td>smallest</td>\n",
       "      <td>oldest_lowest_smallest</td>\n",
       "    </tr>\n",
       "    <tr>\n",
       "      <th>1</th>\n",
       "      <td>12347.0</td>\n",
       "      <td>2</td>\n",
       "      <td>7</td>\n",
       "      <td>4310.00</td>\n",
       "      <td>newest</td>\n",
       "      <td>lowest</td>\n",
       "      <td>smallest</td>\n",
       "      <td>newest_lowest_smallest</td>\n",
       "    </tr>\n",
       "    <tr>\n",
       "      <th>2</th>\n",
       "      <td>12348.0</td>\n",
       "      <td>75</td>\n",
       "      <td>4</td>\n",
       "      <td>1797.24</td>\n",
       "      <td>newest</td>\n",
       "      <td>lowest</td>\n",
       "      <td>smallest</td>\n",
       "      <td>newest_lowest_smallest</td>\n",
       "    </tr>\n",
       "    <tr>\n",
       "      <th>3</th>\n",
       "      <td>12349.0</td>\n",
       "      <td>19</td>\n",
       "      <td>1</td>\n",
       "      <td>1757.55</td>\n",
       "      <td>newest</td>\n",
       "      <td>lowest</td>\n",
       "      <td>smallest</td>\n",
       "      <td>newest_lowest_smallest</td>\n",
       "    </tr>\n",
       "    <tr>\n",
       "      <th>4</th>\n",
       "      <td>12350.0</td>\n",
       "      <td>310</td>\n",
       "      <td>1</td>\n",
       "      <td>334.40</td>\n",
       "      <td>oldest</td>\n",
       "      <td>lowest</td>\n",
       "      <td>smallest</td>\n",
       "      <td>oldest_lowest_smallest</td>\n",
       "    </tr>\n",
       "  </tbody>\n",
       "</table>\n",
       "</div>"
      ],
      "text/plain": [
       "  CustomerID  Recency  Frequency  Monetary recency_labels frequency_labels  \\\n",
       "0    12346.0      326          2      0.00         oldest           lowest   \n",
       "1    12347.0        2          7   4310.00         newest           lowest   \n",
       "2    12348.0       75          4   1797.24         newest           lowest   \n",
       "3    12349.0       19          1   1757.55         newest           lowest   \n",
       "4    12350.0      310          1    334.40         oldest           lowest   \n",
       "\n",
       "  monetary_labels             rfm_segment  \n",
       "0        smallest  oldest_lowest_smallest  \n",
       "1        smallest  newest_lowest_smallest  \n",
       "2        smallest  newest_lowest_smallest  \n",
       "3        smallest  newest_lowest_smallest  \n",
       "4        smallest  oldest_lowest_smallest  "
      ]
     },
     "execution_count": 40,
     "metadata": {},
     "output_type": "execute_result"
    }
   ],
   "source": [
    "Data_rfm['rfm_segment'] = Data_rfm[['recency_labels','frequency_labels','monetary_labels']].agg('_'.join, axis=1)\n",
    "Data_rfm.head()"
   ]
  },
  {
   "cell_type": "code",
   "execution_count": 41,
   "id": "8a437428",
   "metadata": {},
   "outputs": [
    {
     "data": {
      "text/html": [
       "<div>\n",
       "<style scoped>\n",
       "    .dataframe tbody tr th:only-of-type {\n",
       "        vertical-align: middle;\n",
       "    }\n",
       "\n",
       "    .dataframe tbody tr th {\n",
       "        vertical-align: top;\n",
       "    }\n",
       "\n",
       "    .dataframe thead th {\n",
       "        text-align: right;\n",
       "    }\n",
       "</style>\n",
       "<table border=\"1\" class=\"dataframe\">\n",
       "  <thead>\n",
       "    <tr style=\"text-align: right;\">\n",
       "      <th></th>\n",
       "      <th>CustomerID</th>\n",
       "      <th>Recency</th>\n",
       "      <th>Frequency</th>\n",
       "      <th>Monetary</th>\n",
       "      <th>recency_labels</th>\n",
       "      <th>frequency_labels</th>\n",
       "      <th>monetary_labels</th>\n",
       "      <th>rfm_segment</th>\n",
       "      <th>rfm_score</th>\n",
       "    </tr>\n",
       "  </thead>\n",
       "  <tbody>\n",
       "    <tr>\n",
       "      <th>0</th>\n",
       "      <td>12346.0</td>\n",
       "      <td>326</td>\n",
       "      <td>2</td>\n",
       "      <td>0.00</td>\n",
       "      <td>oldest</td>\n",
       "      <td>lowest</td>\n",
       "      <td>smallest</td>\n",
       "      <td>oldest_lowest_smallest</td>\n",
       "      <td>3</td>\n",
       "    </tr>\n",
       "    <tr>\n",
       "      <th>1</th>\n",
       "      <td>12347.0</td>\n",
       "      <td>2</td>\n",
       "      <td>7</td>\n",
       "      <td>4310.00</td>\n",
       "      <td>newest</td>\n",
       "      <td>lowest</td>\n",
       "      <td>smallest</td>\n",
       "      <td>newest_lowest_smallest</td>\n",
       "      <td>7</td>\n",
       "    </tr>\n",
       "    <tr>\n",
       "      <th>2</th>\n",
       "      <td>12348.0</td>\n",
       "      <td>75</td>\n",
       "      <td>4</td>\n",
       "      <td>1797.24</td>\n",
       "      <td>newest</td>\n",
       "      <td>lowest</td>\n",
       "      <td>smallest</td>\n",
       "      <td>newest_lowest_smallest</td>\n",
       "      <td>7</td>\n",
       "    </tr>\n",
       "    <tr>\n",
       "      <th>3</th>\n",
       "      <td>12349.0</td>\n",
       "      <td>19</td>\n",
       "      <td>1</td>\n",
       "      <td>1757.55</td>\n",
       "      <td>newest</td>\n",
       "      <td>lowest</td>\n",
       "      <td>smallest</td>\n",
       "      <td>newest_lowest_smallest</td>\n",
       "      <td>7</td>\n",
       "    </tr>\n",
       "    <tr>\n",
       "      <th>4</th>\n",
       "      <td>12350.0</td>\n",
       "      <td>310</td>\n",
       "      <td>1</td>\n",
       "      <td>334.40</td>\n",
       "      <td>oldest</td>\n",
       "      <td>lowest</td>\n",
       "      <td>smallest</td>\n",
       "      <td>oldest_lowest_smallest</td>\n",
       "      <td>3</td>\n",
       "    </tr>\n",
       "    <tr>\n",
       "      <th>5</th>\n",
       "      <td>12352.0</td>\n",
       "      <td>36</td>\n",
       "      <td>11</td>\n",
       "      <td>1545.41</td>\n",
       "      <td>newest</td>\n",
       "      <td>lowest</td>\n",
       "      <td>smallest</td>\n",
       "      <td>newest_lowest_smallest</td>\n",
       "      <td>7</td>\n",
       "    </tr>\n",
       "    <tr>\n",
       "      <th>6</th>\n",
       "      <td>12353.0</td>\n",
       "      <td>204</td>\n",
       "      <td>1</td>\n",
       "      <td>89.00</td>\n",
       "      <td>medium</td>\n",
       "      <td>lowest</td>\n",
       "      <td>smallest</td>\n",
       "      <td>medium_lowest_smallest</td>\n",
       "      <td>5</td>\n",
       "    </tr>\n",
       "    <tr>\n",
       "      <th>7</th>\n",
       "      <td>12354.0</td>\n",
       "      <td>232</td>\n",
       "      <td>1</td>\n",
       "      <td>1079.40</td>\n",
       "      <td>older</td>\n",
       "      <td>lowest</td>\n",
       "      <td>smallest</td>\n",
       "      <td>older_lowest_smallest</td>\n",
       "      <td>4</td>\n",
       "    </tr>\n",
       "    <tr>\n",
       "      <th>8</th>\n",
       "      <td>12355.0</td>\n",
       "      <td>214</td>\n",
       "      <td>1</td>\n",
       "      <td>459.40</td>\n",
       "      <td>medium</td>\n",
       "      <td>lowest</td>\n",
       "      <td>smallest</td>\n",
       "      <td>medium_lowest_smallest</td>\n",
       "      <td>5</td>\n",
       "    </tr>\n",
       "    <tr>\n",
       "      <th>9</th>\n",
       "      <td>12356.0</td>\n",
       "      <td>23</td>\n",
       "      <td>3</td>\n",
       "      <td>2811.43</td>\n",
       "      <td>newest</td>\n",
       "      <td>lowest</td>\n",
       "      <td>smallest</td>\n",
       "      <td>newest_lowest_smallest</td>\n",
       "      <td>7</td>\n",
       "    </tr>\n",
       "  </tbody>\n",
       "</table>\n",
       "</div>"
      ],
      "text/plain": [
       "  CustomerID  Recency  Frequency  Monetary recency_labels frequency_labels  \\\n",
       "0    12346.0      326          2      0.00         oldest           lowest   \n",
       "1    12347.0        2          7   4310.00         newest           lowest   \n",
       "2    12348.0       75          4   1797.24         newest           lowest   \n",
       "3    12349.0       19          1   1757.55         newest           lowest   \n",
       "4    12350.0      310          1    334.40         oldest           lowest   \n",
       "5    12352.0       36         11   1545.41         newest           lowest   \n",
       "6    12353.0      204          1     89.00         medium           lowest   \n",
       "7    12354.0      232          1   1079.40          older           lowest   \n",
       "8    12355.0      214          1    459.40         medium           lowest   \n",
       "9    12356.0       23          3   2811.43         newest           lowest   \n",
       "\n",
       "  monetary_labels             rfm_segment  rfm_score  \n",
       "0        smallest  oldest_lowest_smallest          3  \n",
       "1        smallest  newest_lowest_smallest          7  \n",
       "2        smallest  newest_lowest_smallest          7  \n",
       "3        smallest  newest_lowest_smallest          7  \n",
       "4        smallest  oldest_lowest_smallest          3  \n",
       "5        smallest  newest_lowest_smallest          7  \n",
       "6        smallest  medium_lowest_smallest          5  \n",
       "7        smallest   older_lowest_smallest          4  \n",
       "8        smallest  medium_lowest_smallest          5  \n",
       "9        smallest  newest_lowest_smallest          7  "
      ]
     },
     "execution_count": 41,
     "metadata": {},
     "output_type": "execute_result"
    }
   ],
   "source": [
    "# RFM Score:\n",
    "\n",
    "recency_dict = {'newest': 5, 'newer':4, 'medium': 3, 'older':2, 'oldest':1}\n",
    "frequency_dict = {'lowest':1, 'lower':2, 'medium': 3, 'higher':4, 'highest':5}\n",
    "monetary_dict = {'smallest':1, 'smaller':2, 'medium': 3, 'larger':4, 'largest':5}\n",
    "\n",
    "Data_rfm['rfm_score'] = (Data_rfm['recency_labels'].map(recency_dict).astype(int)+ Data_rfm['frequency_labels']\n",
    "                         .map(frequency_dict).astype(int) + Data_rfm['monetary_labels'].map(monetary_dict).astype(int))\n",
    "\n",
    "Data_rfm.head(10)"
   ]
  },
  {
   "cell_type": "code",
   "execution_count": 42,
   "id": "e84adcc9",
   "metadata": {},
   "outputs": [
    {
     "data": {
      "image/png": "[encoded data removed]",
      "text/plain": [
       "<Figure size 720x360 with 1 Axes>"
      ]
     },
     "metadata": {
      "needs_background": "light"
     },
     "output_type": "display_data"
    }
   ],
   "source": [
    "# Analyze RFM Segment and Score:\n",
    "\n",
    "Data_rfm['rfm_segment'].value_counts().plot(kind='barh', figsize=(10, 5));"
   ]
  },
  {
   "cell_type": "code",
   "execution_count": 43,
   "id": "002ff481",
   "metadata": {},
   "outputs": [
    {
     "data": {
      "image/png": "[encoded data removed]",
      "text/plain": [
       "<Figure size 720x360 with 1 Axes>"
      ]
     },
     "metadata": {
      "needs_background": "light"
     },
     "output_type": "display_data"
    }
   ],
   "source": [
    "Data_rfm['rfm_score'].value_counts().plot(kind='barh', figsize=(10, 5));"
   ]
  },
  {
   "cell_type": "markdown",
   "id": "40f704e4",
   "metadata": {},
   "source": [
    "# Data Modeling:"
   ]
  },
  {
   "cell_type": "code",
   "execution_count": 44,
   "id": "776ba731",
   "metadata": {},
   "outputs": [],
   "source": [
    "# Create clusters using k-means clustering algorithm.\n",
    "\n",
    "# Prepare the data for the algorithm.\n",
    "# If the data is asymmetrically distributed, manage the skewness with appropriate transformation. Standardize the data."
   ]
  },
  {
   "cell_type": "code",
   "execution_count": 45,
   "id": "71d4370b",
   "metadata": {},
   "outputs": [
    {
     "name": "stdout",
     "output_type": "stream",
     "text": [
      "(4372, 9)\n"
     ]
    },
    {
     "data": {
      "text/html": [
       "<div>\n",
       "<style scoped>\n",
       "    .dataframe tbody tr th:only-of-type {\n",
       "        vertical-align: middle;\n",
       "    }\n",
       "\n",
       "    .dataframe tbody tr th {\n",
       "        vertical-align: top;\n",
       "    }\n",
       "\n",
       "    .dataframe thead th {\n",
       "        text-align: right;\n",
       "    }\n",
       "</style>\n",
       "<table border=\"1\" class=\"dataframe\">\n",
       "  <thead>\n",
       "    <tr style=\"text-align: right;\">\n",
       "      <th></th>\n",
       "      <th>CustomerID</th>\n",
       "      <th>Recency</th>\n",
       "      <th>Frequency</th>\n",
       "      <th>Monetary</th>\n",
       "      <th>recency_labels</th>\n",
       "      <th>frequency_labels</th>\n",
       "      <th>monetary_labels</th>\n",
       "      <th>rfm_segment</th>\n",
       "      <th>rfm_score</th>\n",
       "    </tr>\n",
       "  </thead>\n",
       "  <tbody>\n",
       "    <tr>\n",
       "      <th>0</th>\n",
       "      <td>12346.0</td>\n",
       "      <td>326</td>\n",
       "      <td>2</td>\n",
       "      <td>0.00</td>\n",
       "      <td>oldest</td>\n",
       "      <td>lowest</td>\n",
       "      <td>smallest</td>\n",
       "      <td>oldest_lowest_smallest</td>\n",
       "      <td>3</td>\n",
       "    </tr>\n",
       "    <tr>\n",
       "      <th>1</th>\n",
       "      <td>12347.0</td>\n",
       "      <td>2</td>\n",
       "      <td>7</td>\n",
       "      <td>4310.00</td>\n",
       "      <td>newest</td>\n",
       "      <td>lowest</td>\n",
       "      <td>smallest</td>\n",
       "      <td>newest_lowest_smallest</td>\n",
       "      <td>7</td>\n",
       "    </tr>\n",
       "    <tr>\n",
       "      <th>2</th>\n",
       "      <td>12348.0</td>\n",
       "      <td>75</td>\n",
       "      <td>4</td>\n",
       "      <td>1797.24</td>\n",
       "      <td>newest</td>\n",
       "      <td>lowest</td>\n",
       "      <td>smallest</td>\n",
       "      <td>newest_lowest_smallest</td>\n",
       "      <td>7</td>\n",
       "    </tr>\n",
       "    <tr>\n",
       "      <th>3</th>\n",
       "      <td>12349.0</td>\n",
       "      <td>19</td>\n",
       "      <td>1</td>\n",
       "      <td>1757.55</td>\n",
       "      <td>newest</td>\n",
       "      <td>lowest</td>\n",
       "      <td>smallest</td>\n",
       "      <td>newest_lowest_smallest</td>\n",
       "      <td>7</td>\n",
       "    </tr>\n",
       "    <tr>\n",
       "      <th>4</th>\n",
       "      <td>12350.0</td>\n",
       "      <td>310</td>\n",
       "      <td>1</td>\n",
       "      <td>334.40</td>\n",
       "      <td>oldest</td>\n",
       "      <td>lowest</td>\n",
       "      <td>smallest</td>\n",
       "      <td>oldest_lowest_smallest</td>\n",
       "      <td>3</td>\n",
       "    </tr>\n",
       "  </tbody>\n",
       "</table>\n",
       "</div>"
      ],
      "text/plain": [
       "  CustomerID  Recency  Frequency  Monetary recency_labels frequency_labels  \\\n",
       "0    12346.0      326          2      0.00         oldest           lowest   \n",
       "1    12347.0        2          7   4310.00         newest           lowest   \n",
       "2    12348.0       75          4   1797.24         newest           lowest   \n",
       "3    12349.0       19          1   1757.55         newest           lowest   \n",
       "4    12350.0      310          1    334.40         oldest           lowest   \n",
       "\n",
       "  monetary_labels             rfm_segment  rfm_score  \n",
       "0        smallest  oldest_lowest_smallest          3  \n",
       "1        smallest  newest_lowest_smallest          7  \n",
       "2        smallest  newest_lowest_smallest          7  \n",
       "3        smallest  newest_lowest_smallest          7  \n",
       "4        smallest  oldest_lowest_smallest          3  "
      ]
     },
     "execution_count": 45,
     "metadata": {},
     "output_type": "execute_result"
    }
   ],
   "source": [
    "print(Data_rfm.shape)\n",
    "Data_rfm.head()"
   ]
  },
  {
   "cell_type": "code",
   "execution_count": 46,
   "id": "1c30169d",
   "metadata": {},
   "outputs": [
    {
     "data": {
      "image/png": "[encoded data removed]",
      "text/plain": [
       "<Figure size 864x432 with 6 Axes>"
      ]
     },
     "metadata": {
      "needs_background": "light"
     },
     "output_type": "display_data"
    }
   ],
   "source": [
    "plt.figure(figsize=(12,6))\n",
    "\n",
    "for i, feature in enumerate(['Recency', 'Frequency', 'Monetary']):\n",
    "    plt.subplot(2,3,i+1)\n",
    "    Data_rfm[feature].plot(kind='box')\n",
    "    plt.subplot(2,3,i+1+3)\n",
    "    Data_rfm[feature].plot(kind='hist')"
   ]
  },
  {
   "cell_type": "code",
   "execution_count": 47,
   "id": "e7e9a0ae",
   "metadata": {},
   "outputs": [],
   "source": [
    "# From above data:\n",
    "# Frequency and Monetary features in above data seem to have lot of outliers. Lets drop them."
   ]
  },
  {
   "cell_type": "code",
   "execution_count": 48,
   "id": "4bd18af1",
   "metadata": {},
   "outputs": [
    {
     "data": {
      "text/plain": [
       "(4346, 9)"
      ]
     },
     "execution_count": 48,
     "metadata": {},
     "output_type": "execute_result"
    }
   ],
   "source": [
    "Data_rfm = Data_rfm[(Data_rfm['Frequency']<60) & (Data_rfm['Monetary']<40000)]\n",
    "Data_rfm.shape"
   ]
  },
  {
   "cell_type": "code",
   "execution_count": 49,
   "id": "62f9625b",
   "metadata": {},
   "outputs": [
    {
     "data": {
      "image/png": "[encoded data removed]",
      "text/plain": [
       "<Figure size 864x432 with 6 Axes>"
      ]
     },
     "metadata": {
      "needs_background": "light"
     },
     "output_type": "display_data"
    }
   ],
   "source": [
    "plt.figure(figsize=(12,6))\n",
    "\n",
    "for i, feature in enumerate(['Recency', 'Frequency', 'Monetary']):\n",
    "    plt.subplot(2,3,i+1)\n",
    "    Data_rfm[feature].plot(kind='box')\n",
    "    plt.subplot(2,3,i+1+3)\n",
    "    Data_rfm[feature].plot(kind='hist')"
   ]
  },
  {
   "cell_type": "code",
   "execution_count": 50,
   "id": "9feaf47f",
   "metadata": {},
   "outputs": [],
   "source": [
    "# Now since all three features have right skewed data, we will use log transformation of these features in our model."
   ]
  },
  {
   "cell_type": "code",
   "execution_count": 51,
   "id": "cee1b493",
   "metadata": {},
   "outputs": [],
   "source": [
    "Data_rfm_log_trans = pd.DataFrame()\n",
    "Data_rfm_log_trans['Recency'] = np.log(Data_rfm['Recency'])\n",
    "Data_rfm_log_trans['Frequency'] = np.log(Data_rfm['Frequency'])\n",
    "Data_rfm_log_trans['Monetary'] = np.log(Data_rfm['Monetary']-Data_rfm['Monetary'].min()+1)"
   ]
  },
  {
   "cell_type": "code",
   "execution_count": 52,
   "id": "74911e79",
   "metadata": {},
   "outputs": [
    {
     "data": {
      "text/html": [
       "<div>\n",
       "<style scoped>\n",
       "    .dataframe tbody tr th:only-of-type {\n",
       "        vertical-align: middle;\n",
       "    }\n",
       "\n",
       "    .dataframe tbody tr th {\n",
       "        vertical-align: top;\n",
       "    }\n",
       "\n",
       "    .dataframe thead th {\n",
       "        text-align: right;\n",
       "    }\n",
       "</style>\n",
       "<table border=\"1\" class=\"dataframe\">\n",
       "  <thead>\n",
       "    <tr style=\"text-align: right;\">\n",
       "      <th></th>\n",
       "      <th>Recency</th>\n",
       "      <th>Frequency</th>\n",
       "      <th>Monetary</th>\n",
       "    </tr>\n",
       "  </thead>\n",
       "  <tbody>\n",
       "    <tr>\n",
       "      <th>0</th>\n",
       "      <td>5.786897</td>\n",
       "      <td>0.693147</td>\n",
       "      <td>8.363723</td>\n",
       "    </tr>\n",
       "    <tr>\n",
       "      <th>1</th>\n",
       "      <td>0.693147</td>\n",
       "      <td>1.945910</td>\n",
       "      <td>9.059358</td>\n",
       "    </tr>\n",
       "    <tr>\n",
       "      <th>2</th>\n",
       "      <td>4.317488</td>\n",
       "      <td>1.386294</td>\n",
       "      <td>8.713725</td>\n",
       "    </tr>\n",
       "    <tr>\n",
       "      <th>3</th>\n",
       "      <td>2.944439</td>\n",
       "      <td>0.000000</td>\n",
       "      <td>8.707182</td>\n",
       "    </tr>\n",
       "    <tr>\n",
       "      <th>4</th>\n",
       "      <td>5.736572</td>\n",
       "      <td>0.000000</td>\n",
       "      <td>8.438806</td>\n",
       "    </tr>\n",
       "  </tbody>\n",
       "</table>\n",
       "</div>"
      ],
      "text/plain": [
       "    Recency  Frequency  Monetary\n",
       "0  5.786897   0.693147  8.363723\n",
       "1  0.693147   1.945910  9.059358\n",
       "2  4.317488   1.386294  8.713725\n",
       "3  2.944439   0.000000  8.707182\n",
       "4  5.736572   0.000000  8.438806"
      ]
     },
     "execution_count": 52,
     "metadata": {},
     "output_type": "execute_result"
    }
   ],
   "source": [
    "Data_rfm_log_trans.head()"
   ]
  },
  {
   "cell_type": "code",
   "execution_count": 53,
   "id": "e2946907",
   "metadata": {},
   "outputs": [],
   "source": [
    "# Standard Scalar Transformation: It is extremely important to rescale the features so that they have a comparable scale."
   ]
  },
  {
   "cell_type": "code",
   "execution_count": 54,
   "id": "b44b691d",
   "metadata": {},
   "outputs": [
    {
     "data": {
      "text/html": [
       "<div>\n",
       "<style scoped>\n",
       "    .dataframe tbody tr th:only-of-type {\n",
       "        vertical-align: middle;\n",
       "    }\n",
       "\n",
       "    .dataframe tbody tr th {\n",
       "        vertical-align: top;\n",
       "    }\n",
       "\n",
       "    .dataframe thead th {\n",
       "        text-align: right;\n",
       "    }\n",
       "</style>\n",
       "<table border=\"1\" class=\"dataframe\">\n",
       "  <thead>\n",
       "    <tr style=\"text-align: right;\">\n",
       "      <th></th>\n",
       "      <th>Recency</th>\n",
       "      <th>Frequency</th>\n",
       "      <th>Monetary</th>\n",
       "    </tr>\n",
       "  </thead>\n",
       "  <tbody>\n",
       "    <tr>\n",
       "      <th>0</th>\n",
       "      <td>1.402988</td>\n",
       "      <td>-0.388507</td>\n",
       "      <td>-0.770922</td>\n",
       "    </tr>\n",
       "    <tr>\n",
       "      <th>1</th>\n",
       "      <td>-2.100874</td>\n",
       "      <td>0.967301</td>\n",
       "      <td>1.485132</td>\n",
       "    </tr>\n",
       "    <tr>\n",
       "      <th>2</th>\n",
       "      <td>0.392218</td>\n",
       "      <td>0.361655</td>\n",
       "      <td>0.364190</td>\n",
       "    </tr>\n",
       "    <tr>\n",
       "      <th>3</th>\n",
       "      <td>-0.552268</td>\n",
       "      <td>-1.138669</td>\n",
       "      <td>0.342970</td>\n",
       "    </tr>\n",
       "    <tr>\n",
       "      <th>4</th>\n",
       "      <td>1.368370</td>\n",
       "      <td>-1.138669</td>\n",
       "      <td>-0.527416</td>\n",
       "    </tr>\n",
       "  </tbody>\n",
       "</table>\n",
       "</div>"
      ],
      "text/plain": [
       "    Recency  Frequency  Monetary\n",
       "0  1.402988  -0.388507 -0.770922\n",
       "1 -2.100874   0.967301  1.485132\n",
       "2  0.392218   0.361655  0.364190\n",
       "3 -0.552268  -1.138669  0.342970\n",
       "4  1.368370  -1.138669 -0.527416"
      ]
     },
     "execution_count": 54,
     "metadata": {},
     "output_type": "execute_result"
    }
   ],
   "source": [
    "scaler = StandardScaler()\n",
    "\n",
    "Data_rfm_scaled = scaler.fit_transform(Data_rfm_log_trans[['Recency', 'Frequency', 'Monetary']])\n",
    "Data_rfm_scaled\n",
    "\n",
    "Data_rfm_scaled = pd.DataFrame(Data_rfm_scaled)\n",
    "Data_rfm_scaled.columns = ['Recency', 'Frequency', 'Monetary']\n",
    "Data_rfm_scaled.head()"
   ]
  },
  {
   "cell_type": "code",
   "execution_count": 55,
   "id": "70c9dbcd",
   "metadata": {},
   "outputs": [],
   "source": [
    "# Build K-Means Clustering Model and Decide the optimum number of clusters to be formed."
   ]
  },
  {
   "cell_type": "code",
   "execution_count": 56,
   "id": "b8397bcf",
   "metadata": {},
   "outputs": [
    {
     "data": {
      "text/plain": [
       "KMeans(max_iter=50, n_clusters=3)"
      ]
     },
     "execution_count": 56,
     "metadata": {},
     "output_type": "execute_result"
    }
   ],
   "source": [
    "# k-means with some arbitrary k\n",
    "kmeans = KMeans(n_clusters=3, max_iter=50)\n",
    "kmeans.fit(Data_rfm_scaled)"
   ]
  },
  {
   "cell_type": "code",
   "execution_count": 57,
   "id": "15cf76f8",
   "metadata": {},
   "outputs": [
    {
     "data": {
      "text/plain": [
       "array([1, 0, 2, ..., 2, 0, 2])"
      ]
     },
     "execution_count": 57,
     "metadata": {},
     "output_type": "execute_result"
    }
   ],
   "source": [
    "kmeans.labels_"
   ]
  },
  {
   "cell_type": "code",
   "execution_count": 58,
   "id": "f354a68b",
   "metadata": {},
   "outputs": [
    {
     "data": {
      "image/png": "[encoded data removed]",
      "text/plain": [
       "<Figure size 432x288 with 1 Axes>"
      ]
     },
     "metadata": {
      "needs_background": "light"
     },
     "output_type": "display_data"
    }
   ],
   "source": [
    "# Finding the Optimal Number of Clusters with the help of Elbow Curve/ SSD\n",
    "\n",
    "ssd = []\n",
    "range_n_clusters = [2, 3, 4, 5, 6, 7, 8, 9, 10, 11, 12]\n",
    "for num_clusters in range_n_clusters:\n",
    "    kmeans = KMeans(n_clusters=num_clusters, max_iter=100)\n",
    "    kmeans.fit(Data_rfm_scaled)\n",
    "    \n",
    "    ssd.append(kmeans.inertia_)\n",
    "    \n",
    "    \n",
    "# plot the SSDs for each n_clusters\n",
    "\n",
    "plt.plot(range_n_clusters,ssd);"
   ]
  },
  {
   "cell_type": "code",
   "execution_count": 59,
   "id": "9d8fd889",
   "metadata": {},
   "outputs": [
    {
     "data": {
      "text/html": [
       "<div>\n",
       "<style scoped>\n",
       "    .dataframe tbody tr th:only-of-type {\n",
       "        vertical-align: middle;\n",
       "    }\n",
       "\n",
       "    .dataframe tbody tr th {\n",
       "        vertical-align: top;\n",
       "    }\n",
       "\n",
       "    .dataframe thead th {\n",
       "        text-align: right;\n",
       "    }\n",
       "</style>\n",
       "<table border=\"1\" class=\"dataframe\">\n",
       "  <thead>\n",
       "    <tr style=\"text-align: right;\">\n",
       "      <th></th>\n",
       "      <th>clusters</th>\n",
       "      <th>intertia</th>\n",
       "    </tr>\n",
       "  </thead>\n",
       "  <tbody>\n",
       "    <tr>\n",
       "      <th>0</th>\n",
       "      <td>2</td>\n",
       "      <td>7113.097396</td>\n",
       "    </tr>\n",
       "    <tr>\n",
       "      <th>1</th>\n",
       "      <td>3</td>\n",
       "      <td>5343.136928</td>\n",
       "    </tr>\n",
       "    <tr>\n",
       "      <th>2</th>\n",
       "      <td>4</td>\n",
       "      <td>4481.022293</td>\n",
       "    </tr>\n",
       "    <tr>\n",
       "      <th>3</th>\n",
       "      <td>5</td>\n",
       "      <td>3730.805717</td>\n",
       "    </tr>\n",
       "    <tr>\n",
       "      <th>4</th>\n",
       "      <td>6</td>\n",
       "      <td>3045.029702</td>\n",
       "    </tr>\n",
       "    <tr>\n",
       "      <th>5</th>\n",
       "      <td>7</td>\n",
       "      <td>2598.464837</td>\n",
       "    </tr>\n",
       "    <tr>\n",
       "      <th>6</th>\n",
       "      <td>8</td>\n",
       "      <td>2301.370633</td>\n",
       "    </tr>\n",
       "    <tr>\n",
       "      <th>7</th>\n",
       "      <td>9</td>\n",
       "      <td>2044.740060</td>\n",
       "    </tr>\n",
       "    <tr>\n",
       "      <th>8</th>\n",
       "      <td>10</td>\n",
       "      <td>1852.941597</td>\n",
       "    </tr>\n",
       "    <tr>\n",
       "      <th>9</th>\n",
       "      <td>11</td>\n",
       "      <td>1700.376798</td>\n",
       "    </tr>\n",
       "    <tr>\n",
       "      <th>10</th>\n",
       "      <td>12</td>\n",
       "      <td>1575.512062</td>\n",
       "    </tr>\n",
       "  </tbody>\n",
       "</table>\n",
       "</div>"
      ],
      "text/plain": [
       "    clusters     intertia\n",
       "0          2  7113.097396\n",
       "1          3  5343.136928\n",
       "2          4  4481.022293\n",
       "3          5  3730.805717\n",
       "4          6  3045.029702\n",
       "5          7  2598.464837\n",
       "6          8  2301.370633\n",
       "7          9  2044.740060\n",
       "8         10  1852.941597\n",
       "9         11  1700.376798\n",
       "10        12  1575.512062"
      ]
     },
     "execution_count": 59,
     "metadata": {},
     "output_type": "execute_result"
    }
   ],
   "source": [
    "# Creating dataframe for exporting to create visualization in tableau later\n",
    "Data_inertia = pd.DataFrame(list(zip(range_n_clusters, ssd)), columns=['clusters', 'intertia'])\n",
    "Data_inertia"
   ]
  },
  {
   "cell_type": "code",
   "execution_count": 60,
   "id": "20ee410d",
   "metadata": {},
   "outputs": [
    {
     "name": "stdout",
     "output_type": "stream",
     "text": [
      "For n_clusters=2, the silhouette score is 0.44132753537785846\n",
      "For n_clusters=3, the silhouette score is 0.37962225322302756\n",
      "For n_clusters=4, the silhouette score is 0.3623606426972478\n",
      "For n_clusters=5, the silhouette score is 0.36686786887528716\n",
      "For n_clusters=6, the silhouette score is 0.3441911617174347\n",
      "For n_clusters=7, the silhouette score is 0.3428617732216645\n",
      "For n_clusters=8, the silhouette score is 0.3352730467143602\n",
      "For n_clusters=9, the silhouette score is 0.346301798458803\n",
      "For n_clusters=10, the silhouette score is 0.3560807144631476\n"
     ]
    }
   ],
   "source": [
    "# Finding the Optimal Number of Clusters with the help of Silhouette Analysis\n",
    "\n",
    "range_n_clusters = [2, 3, 4, 5, 6, 7, 8, 9, 10]\n",
    "\n",
    "for num_clusters in range_n_clusters:    \n",
    "    kmeans = KMeans(n_clusters=num_clusters, max_iter=50)\n",
    "    kmeans.fit(Data_rfm_scaled)\n",
    "    \n",
    "    cluster_labels = kmeans.labels_\n",
    "    \n",
    "    silhouette_avg = silhouette_score(Data_rfm_scaled, cluster_labels)\n",
    "    print(\"For n_clusters={0}, the silhouette score is {1}\".format(num_clusters, silhouette_avg))"
   ]
  },
  {
   "cell_type": "code",
   "execution_count": 61,
   "id": "d80e7dab",
   "metadata": {},
   "outputs": [],
   "source": [
    "# From above data\n",
    "# We can select optimum number of clusters as 3 in our final model"
   ]
  },
  {
   "cell_type": "code",
   "execution_count": 62,
   "id": "e01ff0c4",
   "metadata": {},
   "outputs": [
    {
     "data": {
      "text/plain": [
       "KMeans(max_iter=50, n_clusters=3)"
      ]
     },
     "execution_count": 62,
     "metadata": {},
     "output_type": "execute_result"
    }
   ],
   "source": [
    "# Final model with k=3\n",
    "kmeans = KMeans(n_clusters=3, max_iter=50)\n",
    "kmeans.fit(Data_rfm_scaled)"
   ]
  },
  {
   "cell_type": "code",
   "execution_count": 63,
   "id": "c9aa4c35",
   "metadata": {},
   "outputs": [],
   "source": [
    " # Analyze these clusters and comment on the results."
   ]
  },
  {
   "cell_type": "code",
   "execution_count": 64,
   "id": "5ba36e32",
   "metadata": {},
   "outputs": [
    {
     "data": {
      "text/html": [
       "<div>\n",
       "<style scoped>\n",
       "    .dataframe tbody tr th:only-of-type {\n",
       "        vertical-align: middle;\n",
       "    }\n",
       "\n",
       "    .dataframe tbody tr th {\n",
       "        vertical-align: top;\n",
       "    }\n",
       "\n",
       "    .dataframe thead th {\n",
       "        text-align: right;\n",
       "    }\n",
       "</style>\n",
       "<table border=\"1\" class=\"dataframe\">\n",
       "  <thead>\n",
       "    <tr style=\"text-align: right;\">\n",
       "      <th></th>\n",
       "      <th>CustomerID</th>\n",
       "      <th>Recency</th>\n",
       "      <th>Frequency</th>\n",
       "      <th>Monetary</th>\n",
       "      <th>recency_labels</th>\n",
       "      <th>frequency_labels</th>\n",
       "      <th>monetary_labels</th>\n",
       "      <th>rfm_segment</th>\n",
       "      <th>rfm_score</th>\n",
       "      <th>Cluster_Id</th>\n",
       "    </tr>\n",
       "  </thead>\n",
       "  <tbody>\n",
       "    <tr>\n",
       "      <th>0</th>\n",
       "      <td>12346.0</td>\n",
       "      <td>326</td>\n",
       "      <td>2</td>\n",
       "      <td>0.00</td>\n",
       "      <td>oldest</td>\n",
       "      <td>lowest</td>\n",
       "      <td>smallest</td>\n",
       "      <td>oldest_lowest_smallest</td>\n",
       "      <td>3</td>\n",
       "      <td>1</td>\n",
       "    </tr>\n",
       "    <tr>\n",
       "      <th>1</th>\n",
       "      <td>12347.0</td>\n",
       "      <td>2</td>\n",
       "      <td>7</td>\n",
       "      <td>4310.00</td>\n",
       "      <td>newest</td>\n",
       "      <td>lowest</td>\n",
       "      <td>smallest</td>\n",
       "      <td>newest_lowest_smallest</td>\n",
       "      <td>7</td>\n",
       "      <td>2</td>\n",
       "    </tr>\n",
       "    <tr>\n",
       "      <th>2</th>\n",
       "      <td>12348.0</td>\n",
       "      <td>75</td>\n",
       "      <td>4</td>\n",
       "      <td>1797.24</td>\n",
       "      <td>newest</td>\n",
       "      <td>lowest</td>\n",
       "      <td>smallest</td>\n",
       "      <td>newest_lowest_smallest</td>\n",
       "      <td>7</td>\n",
       "      <td>0</td>\n",
       "    </tr>\n",
       "    <tr>\n",
       "      <th>3</th>\n",
       "      <td>12349.0</td>\n",
       "      <td>19</td>\n",
       "      <td>1</td>\n",
       "      <td>1757.55</td>\n",
       "      <td>newest</td>\n",
       "      <td>lowest</td>\n",
       "      <td>smallest</td>\n",
       "      <td>newest_lowest_smallest</td>\n",
       "      <td>7</td>\n",
       "      <td>1</td>\n",
       "    </tr>\n",
       "    <tr>\n",
       "      <th>4</th>\n",
       "      <td>12350.0</td>\n",
       "      <td>310</td>\n",
       "      <td>1</td>\n",
       "      <td>334.40</td>\n",
       "      <td>oldest</td>\n",
       "      <td>lowest</td>\n",
       "      <td>smallest</td>\n",
       "      <td>oldest_lowest_smallest</td>\n",
       "      <td>3</td>\n",
       "      <td>1</td>\n",
       "    </tr>\n",
       "  </tbody>\n",
       "</table>\n",
       "</div>"
      ],
      "text/plain": [
       "  CustomerID  Recency  Frequency  Monetary recency_labels frequency_labels  \\\n",
       "0    12346.0      326          2      0.00         oldest           lowest   \n",
       "1    12347.0        2          7   4310.00         newest           lowest   \n",
       "2    12348.0       75          4   1797.24         newest           lowest   \n",
       "3    12349.0       19          1   1757.55         newest           lowest   \n",
       "4    12350.0      310          1    334.40         oldest           lowest   \n",
       "\n",
       "  monetary_labels             rfm_segment  rfm_score  Cluster_Id  \n",
       "0        smallest  oldest_lowest_smallest          3           1  \n",
       "1        smallest  newest_lowest_smallest          7           2  \n",
       "2        smallest  newest_lowest_smallest          7           0  \n",
       "3        smallest  newest_lowest_smallest          7           1  \n",
       "4        smallest  oldest_lowest_smallest          3           1  "
      ]
     },
     "execution_count": 64,
     "metadata": {},
     "output_type": "execute_result"
    }
   ],
   "source": [
    "# assign the label\n",
    "Data_rfm['Cluster_Id'] = kmeans.labels_\n",
    "Data_rfm.head()"
   ]
  },
  {
   "cell_type": "code",
   "execution_count": 65,
   "id": "b920d16c",
   "metadata": {},
   "outputs": [
    {
     "data": {
      "image/png": "[encoded data removed]",
      "text/plain": [
       "<Figure size 432x288 with 1 Axes>"
      ]
     },
     "metadata": {
      "needs_background": "light"
     },
     "output_type": "display_data"
    }
   ],
   "source": [
    "# Box plot to visualize Cluster Id vs Monetary\n",
    "sns.boxplot(x='Cluster_Id', y='Monetary', data=Data_rfm);"
   ]
  },
  {
   "cell_type": "code",
   "execution_count": 66,
   "id": "f25c471b",
   "metadata": {},
   "outputs": [
    {
     "data": {
      "image/png": "[encoded data removed]",
      "text/plain": [
       "<Figure size 432x288 with 1 Axes>"
      ]
     },
     "metadata": {
      "needs_background": "light"
     },
     "output_type": "display_data"
    }
   ],
   "source": [
    "# Box plot to visualize Cluster Id vs Frequency\n",
    "sns.boxplot(x='Cluster_Id', y='Frequency', data=Data_rfm);"
   ]
  },
  {
   "cell_type": "code",
   "execution_count": 67,
   "id": "fe68e102",
   "metadata": {},
   "outputs": [
    {
     "data": {
      "image/png": "[encoded data removed]",
      "text/plain": [
       "<Figure size 432x288 with 1 Axes>"
      ]
     },
     "metadata": {
      "needs_background": "light"
     },
     "output_type": "display_data"
    }
   ],
   "source": [
    "# Box plot to visualize Cluster Id vs Recency\n",
    "sns.boxplot(x='Cluster_Id', y='Recency', data=Data_rfm);"
   ]
  },
  {
   "cell_type": "markdown",
   "id": "76a627fe",
   "metadata": {},
   "source": [
    "# Final Inference from the Analysis:\n",
    "# As we can observe from above boxplots that our model has nicely created 3 segements of customer with the interpretation as below:\n",
    "\n",
    "# Customers with Cluster Id 0 are less frequent buyers with low monetary expenditure and also they have not purchased anything in recent time and hence least important for business.\n",
    "# Customers with Cluster Id 1 are the customers having Recency, Frequency and Monetary score in the medium range.\n",
    "# Customers with Cluster Id 2 are the most frequent buyers, spending high amount and recently placing orders so they are the most important customers from business point of view."
   ]
  },
  {
   "cell_type": "code",
   "execution_count": 72,
   "id": "98169bc0",
   "metadata": {},
   "outputs": [],
   "source": [
    "# Writing dataframe to excel file for creating visualization in tableau\n",
    "\n",
    "writer = pd.ExcelWriter('C:\\\\Users\\\\gkoppadx\\\\OneDrive - Intel Corporation\\\\Desktop\\\\simple\\\\A CAPSTONE PROJECT\\\\output_data.xlsx', engine='xlsxwriter')\n",
    "\n",
    "Data.to_excel(writer, sheet_name='master_data', index=False)\n",
    "Data_rfm.to_excel(writer, sheet_name='rfm_data', index=False)\n",
    "Data_inertia.to_excel(writer, sheet_name='inertia', index=False)\n",
    "writer.save()"
   ]
  },
  {
   "cell_type": "code",
   "execution_count": 74,
   "id": "f53445b2",
   "metadata": {},
   "outputs": [],
   "source": [
    "product_desc = pd.read_excel(r'C:\\Users\\gkoppadx\\OneDrive - Intel Corporation\\Desktop\\simple\\A CAPSTONE PROJECT\\Project 3/Online Retail.xlsx')\n",
    "product_desc = product_desc[['StockCode', 'Description']]\n",
    "product_desc = product_desc.drop_duplicates()\n",
    "product_desc.to_csv('product_desc.csv', index=False)"
   ]
  },
  {
   "cell_type": "code",
   "execution_count": 76,
   "id": "d33fe76d",
   "metadata": {},
   "outputs": [
    {
     "data": {
      "text/html": [
       "<div>\n",
       "<style scoped>\n",
       "    .dataframe tbody tr th:only-of-type {\n",
       "        vertical-align: middle;\n",
       "    }\n",
       "\n",
       "    .dataframe tbody tr th {\n",
       "        vertical-align: top;\n",
       "    }\n",
       "\n",
       "    .dataframe thead th {\n",
       "        text-align: right;\n",
       "    }\n",
       "</style>\n",
       "<table border=\"1\" class=\"dataframe\">\n",
       "  <thead>\n",
       "    <tr style=\"text-align: right;\">\n",
       "      <th></th>\n",
       "      <th>StockCode</th>\n",
       "      <th>Description</th>\n",
       "    </tr>\n",
       "  </thead>\n",
       "  <tbody>\n",
       "    <tr>\n",
       "      <th>0</th>\n",
       "      <td>85123A</td>\n",
       "      <td>WHITE HANGING HEART T-LIGHT HOLDER</td>\n",
       "    </tr>\n",
       "    <tr>\n",
       "      <th>1</th>\n",
       "      <td>71053</td>\n",
       "      <td>WHITE METAL LANTERN</td>\n",
       "    </tr>\n",
       "    <tr>\n",
       "      <th>2</th>\n",
       "      <td>84406B</td>\n",
       "      <td>CREAM CUPID HEARTS COAT HANGER</td>\n",
       "    </tr>\n",
       "    <tr>\n",
       "      <th>3</th>\n",
       "      <td>84029G</td>\n",
       "      <td>KNITTED UNION FLAG HOT WATER BOTTLE</td>\n",
       "    </tr>\n",
       "    <tr>\n",
       "      <th>4</th>\n",
       "      <td>84029E</td>\n",
       "      <td>RED WOOLLY HOTTIE WHITE HEART.</td>\n",
       "    </tr>\n",
       "  </tbody>\n",
       "</table>\n",
       "</div>"
      ],
      "text/plain": [
       "  StockCode                          Description\n",
       "0    85123A   WHITE HANGING HEART T-LIGHT HOLDER\n",
       "1     71053                  WHITE METAL LANTERN\n",
       "2    84406B       CREAM CUPID HEARTS COAT HANGER\n",
       "3    84029G  KNITTED UNION FLAG HOT WATER BOTTLE\n",
       "4    84029E       RED WOOLLY HOTTIE WHITE HEART."
      ]
     },
     "execution_count": 76,
     "metadata": {},
     "output_type": "execute_result"
    }
   ],
   "source": [
    "product_desc.head()"
   ]
  },
  {
   "cell_type": "code",
   "execution_count": null,
   "id": "8b023296",
   "metadata": {},
   "outputs": [],
   "source": []
  }
 ],
 "metadata": {
  "kernelspec": {
   "display_name": "Python 3 (ipykernel)",
   "language": "python",
   "name": "python3"
  },
  "language_info": {
   "codemirror_mode": {
    "name": "ipython",
    "version": 3
   },
   "file_extension": ".py",
   "mimetype": "text/x-python",
   "name": "python",
   "nbconvert_exporter": "python",
   "pygments_lexer": "ipython3",
   "version": "3.9.7"
  }
 },
 "nbformat": 4,
 "nbformat_minor": 5
}
